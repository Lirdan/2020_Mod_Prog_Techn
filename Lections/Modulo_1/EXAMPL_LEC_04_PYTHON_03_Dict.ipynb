{
 "cells": [
  {
   "cell_type": "markdown",
   "metadata": {},
   "source": [
    "# EXAMPLES LEC 04 PYTHON 03 DICT"
   ]
  },
  {
   "cell_type": "code",
   "execution_count": 27,
   "metadata": {},
   "outputs": [],
   "source": [
    "my_dict1 = {}\n",
    "my_dict2 = {1:'це', 3:'приклад', 7: 'словника'}\n",
    "my_dict3 = {'це':1, 'прклд': 2, 'слвнк':25}\n",
    "my_dict4 = {'це': {'прклд': 25, 'слвнк':2}}\n",
    "my_dict5 = dict(імя ='Петро', ріст = 175)\n",
    "key_list = list('abcdefzyx')\n",
    "val_list = ['121','122','123','124','125','126','127','128',129]\n",
    "my_dict6 = dict(zip(key_list, val_list))"
   ]
  },
  {
   "cell_type": "markdown",
   "metadata": {},
   "source": [
    "### PRINT  (ПЕЧАТЬ)"
   ]
  },
  {
   "cell_type": "code",
   "execution_count": 48,
   "metadata": {},
   "outputs": [
    {
     "name": "stdout",
     "output_type": "stream",
     "text": [
      "{}\n",
      "{1: 'це', 3: 'приклад', 7: 'словника', 15: 'new_object', 45: {'це': 1, 'прклд': 2}}\n",
      "{'це': 1, 'прклд': 2}\n",
      "{'це': {'прклд': 25, 'слвнк': 2}}\n",
      "{'імя': 'Петро', 'ріст': 175}\n",
      "{'a': '121', 'b': '122', 'c': '123', 'd': '124', 'e': '125', 'f': '126', 'z': '127', 'y': '128', 'x': 129}\n"
     ]
    }
   ],
   "source": [
    "print(my_dict1)\n",
    "print(my_dict2)\n",
    "print(my_dict3)\n",
    "print(my_dict4)\n",
    "print(my_dict5)\n",
    "print(my_dict6)"
   ]
  },
  {
   "cell_type": "markdown",
   "metadata": {},
   "source": [
    "### ОСНОВНЫЕ ОПЕРАЦИИ"
   ]
  },
  {
   "cell_type": "code",
   "execution_count": 49,
   "metadata": {},
   "outputs": [
    {
     "name": "stdout",
     "output_type": "stream",
     "text": [
      "приклад\n",
      "1\n",
      "2\n"
     ]
    }
   ],
   "source": [
    "print(my_dict2[3])  ## key\n",
    "print(my_dict3['це'])  ##  key\n",
    "print(my_dict4['це']['слвнк'])  ##  key"
   ]
  },
  {
   "cell_type": "markdown",
   "metadata": {},
   "source": [
    "### LEN (ДЛИНА СЛОВАРЯ)"
   ]
  },
  {
   "cell_type": "code",
   "execution_count": 50,
   "metadata": {},
   "outputs": [
    {
     "name": "stdout",
     "output_type": "stream",
     "text": [
      "0 9\n"
     ]
    }
   ],
   "source": [
    "print(len(my_dict1), len(my_dict6))"
   ]
  },
  {
   "cell_type": "markdown",
   "metadata": {},
   "source": [
    "### IN (ПРОВЕРКА ПРИНАДЛЕЖНОСТИ)  - КЮЧ ЕСТЬ???"
   ]
  },
  {
   "cell_type": "code",
   "execution_count": 51,
   "metadata": {},
   "outputs": [
    {
     "name": "stdout",
     "output_type": "stream",
     "text": [
      "True\n",
      "False\n"
     ]
    }
   ],
   "source": [
    "print('a' in my_dict6)  ## test\n",
    "print('h' in my_dict6)  ## test"
   ]
  },
  {
   "cell_type": "markdown",
   "metadata": {},
   "source": [
    "### IN in loop FOR    ПЕРЕБОР СЛОВАРЯ ПО КЛЮЧАМ"
   ]
  },
  {
   "cell_type": "code",
   "execution_count": 52,
   "metadata": {},
   "outputs": [
    {
     "name": "stdout",
     "output_type": "stream",
     "text": [
      "1\n",
      "3\n",
      "7\n",
      "15\n",
      "45\n"
     ]
    }
   ],
   "source": [
    "for el in my_dict2:\n",
    "    print (el)"
   ]
  },
  {
   "cell_type": "markdown",
   "metadata": {},
   "source": [
    "### МОДИФИКАЦИЯ СЛОВАРЯ"
   ]
  },
  {
   "cell_type": "code",
   "execution_count": 53,
   "metadata": {},
   "outputs": [
    {
     "name": "stdout",
     "output_type": "stream",
     "text": [
      "{1: 'це', 3: 'приклад', 7: 'словника', 15: 'new_object', 45: {'це': 1, 'прклд': 2}}\n",
      "{1: 'це', 3: 'приклад', 7: 'словника', 15: 'new_object', 45: {'це': 1, 'прклд': 2}}\n"
     ]
    }
   ],
   "source": [
    "my_dict2[15] = 'new_object'\n",
    "print (my_dict2)\n",
    "my_dict2[45] = my_dict3\n",
    "print (my_dict2)"
   ]
  },
  {
   "cell_type": "markdown",
   "metadata": {},
   "source": [
    "###METHODS -->  "
   ]
  },
  {
   "cell_type": "code",
   "execution_count": 54,
   "metadata": {},
   "outputs": [
    {
     "name": "stdout",
     "output_type": "stream",
     "text": [
      "dict_keys([1, 3, 7, 15, 45])\n",
      "dict_values(['це', 'приклад', 'словника', 'new_object', {'це': 1, 'прклд': 2}])\n",
      "dict_items([(1, 'це'), (3, 'приклад'), (7, 'словника'), (15, 'new_object'), (45, {'це': 1, 'прклд': 2})])\n",
      "dict_items([('це', 1), ('прклд', 2)])\n"
     ]
    }
   ],
   "source": [
    "print (my_dict2.keys())\n",
    "print (my_dict2.values())\n",
    "print (my_dict2.items())\n",
    "print (my_dict2[45].items())"
   ]
  },
  {
   "cell_type": "markdown",
   "metadata": {},
   "source": [
    "### METHODS --> COPY()"
   ]
  },
  {
   "cell_type": "code",
   "execution_count": 38,
   "metadata": {},
   "outputs": [
    {
     "name": "stdout",
     "output_type": "stream",
     "text": [
      "{1: 'це', 3: 'приклад', 7: 'словника', 15: 'new_object', 45: {'це': 1, 'прклд': 2, 'слвнк': 25}}\n"
     ]
    }
   ],
   "source": [
    "my_dict7 = my_dict2.copy()\n",
    "print(my_dict7)"
   ]
  },
  {
   "cell_type": "markdown",
   "metadata": {},
   "source": [
    "### METHODS --> DEL УДАЛЕНИЕ ЭЛЕМЕНТА СЛОВАРЯ"
   ]
  },
  {
   "cell_type": "code",
   "execution_count": 56,
   "metadata": {},
   "outputs": [
    {
     "name": "stdout",
     "output_type": "stream",
     "text": [
      "{'це': 1, 'прклд': 2, 'слвнк': 25}\n",
      "25\n",
      "{'це': 1, 'прклд': 2}\n"
     ]
    },
    {
     "ename": "KeyError",
     "evalue": "'слвнк'",
     "output_type": "error",
     "traceback": [
      "\u001b[1;31m---------------------------------------------------------------------------\u001b[0m",
      "\u001b[1;31mKeyError\u001b[0m                                  Traceback (most recent call last)",
      "\u001b[1;32m<ipython-input-56-f489faa4d080>\u001b[0m in \u001b[0;36m<module>\u001b[1;34m\u001b[0m\n\u001b[0;32m      4\u001b[0m \u001b[1;32mdel\u001b[0m \u001b[0mmy_dict3\u001b[0m\u001b[1;33m[\u001b[0m\u001b[1;34m'слвнк'\u001b[0m\u001b[1;33m]\u001b[0m\u001b[1;33m\u001b[0m\u001b[1;33m\u001b[0m\u001b[0m\n\u001b[0;32m      5\u001b[0m \u001b[0mprint\u001b[0m\u001b[1;33m(\u001b[0m\u001b[0mmy_dict3\u001b[0m\u001b[1;33m)\u001b[0m\u001b[1;33m\u001b[0m\u001b[1;33m\u001b[0m\u001b[0m\n\u001b[1;32m----> 6\u001b[1;33m \u001b[0mprint\u001b[0m\u001b[1;33m(\u001b[0m\u001b[0mmy_dict3\u001b[0m\u001b[1;33m[\u001b[0m\u001b[1;34m'слвнк'\u001b[0m\u001b[1;33m]\u001b[0m\u001b[1;33m)\u001b[0m\u001b[1;33m\u001b[0m\u001b[1;33m\u001b[0m\u001b[0m\n\u001b[0m",
      "\u001b[1;31mKeyError\u001b[0m: 'слвнк'"
     ]
    }
   ],
   "source": [
    "my_dict3 = {'це':1, 'прклд': 2, 'слвнк':25}\n",
    "print(my_dict3)\n",
    "print(my_dict3['слвнк'])\n",
    "del my_dict3['слвнк']\n",
    "print(my_dict3)\n",
    "print(my_dict3['слвнк'])"
   ]
  },
  {
   "cell_type": "markdown",
   "metadata": {},
   "source": [
    "### МETHODS --> UDATE() GET()  POP () ИЗМЕНЕНИЕ  СЛОВАРЕЙ"
   ]
  },
  {
   "cell_type": "code",
   "execution_count": 65,
   "metadata": {},
   "outputs": [
    {
     "name": "stdout",
     "output_type": "stream",
     "text": [
      "{'це': 1, 'прклд': 2, 'слвнк': 25} ИСХОДНЫЙ СЛОВАРЬ 3\n",
      "{'це': 345, 'прклд': 811, 'нове': 999, 'нове2': ['a', 'b', 'c']} ИСХОДНЫЙ СЛОВАРЬ 8\n",
      "{'це': 345, 'прклд': 811, 'слвнк': 25, 'нове': 999, 'нове2': ['a', 'b', 'c']} СЛОВАРЬ 3 ПОСЛЕ ОБНОВЛЕНИЯ\n",
      "None ЧИТАЕМ ИЗ СЛОВАРЬ 3\n",
      "['a', 'b', 'c'] ЧИТАЕМ ИЗ СЛОВАРЬ 3\n",
      "['a', 'b', 'c'] ИЗВЛЕЧЕННОЕ ИЗ СЛОВАРЯ 3\n",
      "{'це': 345, 'прклд': 811, 'слвнк': 25, 'нове': 999} СЛОВАРЬ 3 ПОСЛЕ ИЗВЛЕНЧЕНИЯ\n"
     ]
    }
   ],
   "source": [
    "my_dict3 = {'це':1, 'прклд': 2, 'слвнк':25}\n",
    "my_dict8 = {'це':345, 'прклд': 811, 'нове': 999, 'нове2': ['a','b','c']}\n",
    "print(my_dict3, 'ИСХОДНЫЙ СЛОВАРЬ 3')\n",
    "print(my_dict8, 'ИСХОДНЫЙ СЛОВАРЬ 8')\n",
    "my_dict3.update(my_dict8)\n",
    "print(my_dict3, 'СЛОВАРЬ 3 ПОСЛЕ ОБНОВЛЕНИЯ')\n",
    "print(my_dict3.get('нове3'), 'ЧИТАЕМ ИЗ СЛОВАРЬ 3')\n",
    "print(my_dict3.get('нове2'), 'ЧИТАЕМ ИЗ СЛОВАРЬ 3')\n",
    "print(my_dict3.pop('нове2'), 'ИЗВЛЕЧЕННОЕ ИЗ СЛОВАРЯ 3') \n",
    "print(my_dict3, 'СЛОВАРЬ 3 ПОСЛЕ ИЗВЛЕНЧЕНИЯ')"
   ]
  },
  {
   "cell_type": "markdown",
   "metadata": {},
   "source": [
    "### SIMPLE EXAMPLE"
   ]
  },
  {
   "cell_type": "markdown",
   "metadata": {},
   "source": [
    "### СОРТИРОВКА СЛОВАРЯ !!!  ТОЛЬКО ВИДИМОСТЬ ДЛЯ ОТОБРАЖЕНИЯ"
   ]
  },
  {
   "cell_type": "code",
   "execution_count": 43,
   "metadata": {},
   "outputs": [
    {
     "name": "stdout",
     "output_type": "stream",
     "text": [
      "{'a': '121', 'b': '122', 'c': '123', 'd': '124', 'e': '125', 'f': '126', 'z': '127', 'y': '128', 'x': 129}\n",
      "['a', 'b', 'c', 'd', 'e', 'f', 'z', 'y', 'x']\n",
      "['a', 'b', 'c', 'd', 'e', 'f', 'x', 'y', 'z']\n",
      "a 121\n",
      "b 122\n",
      "c 123\n",
      "d 124\n",
      "e 125\n",
      "f 126\n",
      "x 129\n",
      "y 128\n",
      "z 127\n"
     ]
    }
   ],
   "source": [
    "print(my_dict6)\n",
    "dic_ks = list(my_dict6.keys())\n",
    "print(dic_ks)\n",
    "dic_ks.sort()\n",
    "print(dic_ks)\n",
    "for key in dic_ks : print (key,my_dict6[key])"
   ]
  }
 ],
 "metadata": {
  "kernelspec": {
   "display_name": "Python 3",
   "language": "python",
   "name": "python3"
  },
  "language_info": {
   "codemirror_mode": {
    "name": "ipython",
    "version": 3
   },
   "file_extension": ".py",
   "mimetype": "text/x-python",
   "name": "python",
   "nbconvert_exporter": "python",
   "pygments_lexer": "ipython3",
   "version": "3.7.6"
  }
 },
 "nbformat": 4,
 "nbformat_minor": 4
}
