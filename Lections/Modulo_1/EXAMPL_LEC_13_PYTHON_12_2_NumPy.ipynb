{
 "cells": [
  {
   "cell_type": "markdown",
   "metadata": {},
   "source": [
    "# LEC 13 PYTHON 12 NumPy Examples"
   ]
  },
  {
   "cell_type": "markdown",
   "metadata": {},
   "source": [
    "## NumPy\n",
    "## https://docs.scipy.org/doc/numpy/reference/ufuncs.html"
   ]
  },
  {
   "cell_type": "code",
   "execution_count": 2,
   "metadata": {},
   "outputs": [],
   "source": [
    "# ИМПОРТ МОДУЛЯ\n",
    "import numpy as np"
   ]
  },
  {
   "cell_type": "markdown",
   "metadata": {},
   "source": [
    "####  **Создание массивов numpy**. Из других объектов Python "
   ]
  },
  {
   "cell_type": "markdown",
   "metadata": {},
   "source": [
    "####  **Создаем Pyton List  и массив numpy**  **Тип разный !!!!**"
   ]
  },
  {
   "cell_type": "code",
   "execution_count": 3,
   "metadata": {},
   "outputs": [],
   "source": [
    "x = [1,2,3,4]        # это список Python\n",
    "y = np.array([1,2,3,4]) # это массив numpy"
   ]
  },
  {
   "cell_type": "code",
   "execution_count": 4,
   "metadata": {},
   "outputs": [
    {
     "name": "stdout",
     "output_type": "stream",
     "text": [
      "<class 'list'> [1, 2, 3, 4]\n",
      "<class 'numpy.ndarray'> [1 2 3 4]\n"
     ]
    }
   ],
   "source": [
    "print (type(x), x)\n",
    "print (type(y), y)"
   ]
  },
  {
   "cell_type": "markdown",
   "metadata": {},
   "source": [
    "####  **Создаем  массив numpy**"
   ]
  },
  {
   "cell_type": "code",
   "execution_count": 5,
   "metadata": {},
   "outputs": [
    {
     "name": "stdout",
     "output_type": "stream",
     "text": [
      "<class 'numpy.ndarray'>\n",
      "[[1.+0.j 2.+0.j]\n",
      " [0.+0.j 0.+0.j]\n",
      " [1.+1.j 3.+0.j]]\n"
     ]
    }
   ],
   "source": [
    "z = np.array([[1,2.0],[0,0],(1+1j,3.)]) # смесь списков и кортежей\n",
    "print(type(z))  # !!! МАССИВ 2 х 2  все элементы комплексные числа\n",
    "print(z)"
   ]
  },
  {
   "cell_type": "markdown",
   "metadata": {},
   "source": [
    "####  **Создание массивов numpy**. Встроенные функции"
   ]
  },
  {
   "cell_type": "code",
   "execution_count": 6,
   "metadata": {},
   "outputs": [
    {
     "name": "stdout",
     "output_type": "stream",
     "text": [
      "[[0 0 0]\n",
      " [0 0 0]]\n"
     ]
    }
   ],
   "source": [
    "arr_int_0 = np.zeros((2,3), np.int8)  # МАСИВ НУЛЕЙ  2 Х 3 (ЦЕЛЫЕ 1 БАЙТ)\n",
    "print (arr_int_0)"
   ]
  },
  {
   "cell_type": "code",
   "execution_count": 7,
   "metadata": {},
   "outputs": [
    {
     "name": "stdout",
     "output_type": "stream",
     "text": [
      "[[0. 0. 0.]\n",
      " [0. 0. 0.]]\n"
     ]
    }
   ],
   "source": [
    "arr_flt_0 = np.zeros((2,3), np.float32) # МАСИВ НУЛЕЙ  2 Х 3 (32-РАЗРЯДА, ПЛАВАЮЩИЕ)\n",
    "print (arr_flt_0)"
   ]
  },
  {
   "cell_type": "code",
   "execution_count": 8,
   "metadata": {},
   "outputs": [
    {
     "name": "stdout",
     "output_type": "stream",
     "text": [
      "[[1.+0.5j 1.+0.5j 1.+0.5j]\n",
      " [1.+0.5j 1.+0.5j 1.+0.5j]]\n"
     ]
    }
   ],
   "source": [
    "arr_compl = np.full((2,3), 1.0 + .5j, np.complex64) # МАСИВ 2 Х 3 ЗАДАННЫХ КОМПЛЕКСНЫХ\n",
    "print (arr_compl)"
   ]
  },
  {
   "cell_type": "code",
   "execution_count": 9,
   "metadata": {},
   "outputs": [
    {
     "name": "stdout",
     "output_type": "stream",
     "text": [
      "[1.   1.25 1.5  1.75 2.   2.25 2.5  2.75]\n"
     ]
    }
   ],
   "source": [
    "arr_exmpl = np.arange(1,3,0.25, dtype = np.float64) # ЗАПОЛНЕНИЕ МАССИВА ОТ ДО С ШАГОМ\n",
    "print (arr_exmpl)"
   ]
  },
  {
   "cell_type": "code",
   "execution_count": 10,
   "metadata": {},
   "outputs": [
    {
     "name": "stdout",
     "output_type": "stream",
     "text": [
      "[1.  1.6 2.2 2.8 3.4 4. ]\n"
     ]
    }
   ],
   "source": [
    "arr_exmpl_ = np.linspace(1.0, 4.0 , 6) # РАВНОМЕРНОЕ ЗАПОЛНЕНИЕ МАССИВА \n",
    "print (arr_exmpl_)"
   ]
  },
  {
   "cell_type": "code",
   "execution_count": 11,
   "metadata": {},
   "outputs": [
    {
     "name": "stdout",
     "output_type": "stream",
     "text": [
      "[[[0 0 0]\n",
      "  [1 1 1]]\n",
      "\n",
      " [[0 1 2]\n",
      "  [0 1 2]]]\n"
     ]
    }
   ],
   "source": [
    "arr_exampl = np.indices((2,3)) # СОЗДАНИЕ ИДЕКСОВ РЕГУЛЯРНЫХ СЕТОК\n",
    "print (arr_exampl)"
   ]
  },
  {
   "cell_type": "markdown",
   "metadata": {},
   "source": [
    "####  **Срезы работают. Вывод разный**"
   ]
  },
  {
   "cell_type": "code",
   "execution_count": 12,
   "metadata": {
    "jupyter": {
     "source_hidden": true
    }
   },
   "outputs": [
    {
     "name": "stdout",
     "output_type": "stream",
     "text": [
      "[2, 3]\n",
      "[2 3]\n"
     ]
    }
   ],
   "source": [
    "print (x[1:3])\n",
    "print (y[1:3])"
   ]
  },
  {
   "cell_type": "markdown",
   "metadata": {},
   "source": [
    "####  ИНДКСАЦИЯ ! МАССИВ ИНДЕКСОВ !! ЛОГИЧЕСКАЯ ИНДЕКСАЦИЯ"
   ]
  },
  {
   "cell_type": "code",
   "execution_count": 13,
   "metadata": {},
   "outputs": [
    {
     "ename": "TypeError",
     "evalue": "list indices must be integers or slices, not list",
     "output_type": "error",
     "traceback": [
      "\u001b[1;31m---------------------------------------------------------------------------\u001b[0m",
      "\u001b[1;31mTypeError\u001b[0m                                 Traceback (most recent call last)",
      "\u001b[1;32m<ipython-input-13-a1caa9d36ba1>\u001b[0m in \u001b[0;36m<module>\u001b[1;34m\u001b[0m\n\u001b[1;32m----> 1\u001b[1;33m \u001b[0mprint\u001b[0m \u001b[1;33m(\u001b[0m\u001b[0mx\u001b[0m\u001b[1;33m[\u001b[0m\u001b[1;33m[\u001b[0m\u001b[1;36m0\u001b[0m\u001b[1;33m,\u001b[0m \u001b[1;36m2\u001b[0m\u001b[1;33m]\u001b[0m\u001b[1;33m]\u001b[0m\u001b[1;33m)\u001b[0m  \u001b[1;31m#  НЕ РАБОТАЕТ\u001b[0m\u001b[1;33m\u001b[0m\u001b[1;33m\u001b[0m\u001b[0m\n\u001b[0m",
      "\u001b[1;31mTypeError\u001b[0m: list indices must be integers or slices, not list"
     ]
    }
   ],
   "source": [
    " print (x[[0, 2]])  #  НЕ РАБОТАЕТ"
   ]
  },
  {
   "cell_type": "code",
   "execution_count": 14,
   "metadata": {},
   "outputs": [
    {
     "name": "stdout",
     "output_type": "stream",
     "text": [
      "[1 3]\n"
     ]
    }
   ],
   "source": [
    "print (y[[0, 2]])   #  РАБОТАЕТ"
   ]
  },
  {
   "cell_type": "code",
   "execution_count": 15,
   "metadata": {},
   "outputs": [
    {
     "name": "stdout",
     "output_type": "stream",
     "text": [
      "[False False  True  True]\n",
      "[3 4]\n"
     ]
    }
   ],
   "source": [
    "print ( y>2)   \n",
    "print ( y[y>2])   #  РАБОТАЕТ ЛОГИЧЕСКАЯ ИНДЕКСАЦИЯ"
   ]
  },
  {
   "cell_type": "markdown",
   "metadata": {},
   "source": [
    "####  **МАТЕМАТИЧЕСКИЕ ОПЕРАЦИИ  (+, -, *, /, sign, abs, ...)**"
   ]
  },
  {
   "cell_type": "code",
   "execution_count": 16,
   "metadata": {},
   "outputs": [
    {
     "name": "stdout",
     "output_type": "stream",
     "text": [
      "[-2.   -1.75 -1.5  -1.25 -1.   -0.75 -0.5  -0.25  0.    0.25  0.5   0.75\n",
      "  1.    1.25  1.5   1.75  2.  ]\n"
     ]
    }
   ],
   "source": [
    "x1 = np.arange(-2.0, 2.1, 0.25)\n",
    "print (x1)"
   ]
  },
  {
   "cell_type": "code",
   "execution_count": 17,
   "metadata": {},
   "outputs": [
    {
     "name": "stdout",
     "output_type": "stream",
     "text": [
      "[ 2.    1.75  1.5   1.25  1.    0.75  0.5   0.25 -0.   -0.25 -0.5  -0.75\n",
      " -1.   -1.25 -1.5  -1.75 -2.  ]\n",
      "[-2.   -1.75 -1.5  -1.25 -1.   -0.75 -0.5  -0.25  0.    0.25  0.5   0.75\n",
      "  1.    1.25  1.5   1.75  2.  ]\n"
     ]
    }
   ],
   "source": [
    "print (np.negative(x1)) # ОТРИЦАНИЕ\n",
    "print (np.positive(x1))"
   ]
  },
  {
   "cell_type": "code",
   "execution_count": 18,
   "metadata": {},
   "outputs": [
    {
     "name": "stdout",
     "output_type": "stream",
     "text": [
      "[-1. -1. -1. -1. -1. -1. -1. -1.  0.  1.  1.  1.  1.  1.  1.  1.  1.]\n"
     ]
    }
   ],
   "source": [
    "x3 = np.sign(x1)  # ЗНАК\n",
    "print (x3)"
   ]
  },
  {
   "cell_type": "code",
   "execution_count": 19,
   "metadata": {},
   "outputs": [
    {
     "name": "stdout",
     "output_type": "stream",
     "text": [
      "[ 2.    1.75  1.5   1.25  1.    0.75  0.5   0.25 -0.   -0.25 -0.5  -0.75\n",
      " -1.   -1.25 -1.5  -1.75 -2.  ]\n"
     ]
    }
   ],
   "source": [
    "x2 = np.negative(x1) \n",
    "print (x2)"
   ]
  },
  {
   "cell_type": "code",
   "execution_count": 20,
   "metadata": {},
   "outputs": [
    {
     "name": "stdout",
     "output_type": "stream",
     "text": [
      "[0. 0. 0. 0. 0. 0. 0. 0. 0. 0. 0. 0. 0. 0. 0. 0. 0.]\n"
     ]
    }
   ],
   "source": [
    "print (x1+x2)   # СЛОЖЕНИЕ"
   ]
  },
  {
   "cell_type": "code",
   "execution_count": 21,
   "metadata": {},
   "outputs": [
    {
     "name": "stdout",
     "output_type": "stream",
     "text": [
      "[ 4.   3.5  3.   2.5  2.   1.5  1.   0.5 -0.  -0.5 -1.  -1.5 -2.  -2.5\n",
      " -3.  -3.5 -4. ]\n"
     ]
    }
   ],
   "source": [
    "print (x2-x1)  # ВЫЧИТАНИЕ"
   ]
  },
  {
   "cell_type": "code",
   "execution_count": 22,
   "metadata": {},
   "outputs": [
    {
     "name": "stdout",
     "output_type": "stream",
     "text": [
      "[2.   1.75 1.5  1.25 1.   0.75 0.5  0.25 0.   0.25 0.5  0.75 1.   1.25\n",
      " 1.5  1.75 2.  ]\n"
     ]
    }
   ],
   "source": [
    "print (x1*x3) # УМНОЖЕНИЕ"
   ]
  },
  {
   "cell_type": "code",
   "execution_count": 23,
   "metadata": {},
   "outputs": [
    {
     "name": "stdout",
     "output_type": "stream",
     "text": [
      "[-1. -1. -1. -1. -1. -1. -1. -1. nan -1. -1. -1. -1. -1. -1. -1. -1.]\n",
      "[-0.4  -0.35 -0.3  -0.25 -0.2  -0.15 -0.1  -0.05  0.    0.05  0.1   0.15\n",
      "  0.2   0.25  0.3   0.35  0.4 ]\n"
     ]
    },
    {
     "name": "stderr",
     "output_type": "stream",
     "text": [
      "C:\\ProgramData\\Anaconda3\\lib\\site-packages\\ipykernel_launcher.py:1: RuntimeWarning: invalid value encountered in true_divide\n",
      "  \"\"\"Entry point for launching an IPython kernel.\n"
     ]
    }
   ],
   "source": [
    "print (x1 / x2) # ДЕЛЕНИЕ !! НА СКАЛЯР\n",
    "print (x1 / 5) # ДЕЛЕНИЕ !! НА СКАЛЯР"
   ]
  },
  {
   "cell_type": "code",
   "execution_count": 26,
   "metadata": {},
   "outputs": [
    {
     "name": "stdout",
     "output_type": "stream",
     "text": [
      "0 -2.0 -0.5\n",
      "1 -1.75 -0.5714285714285714\n",
      "2 -1.5 -0.6666666666666666\n",
      "3 -1.25 -0.8\n",
      "4 -1.0 -1.0\n",
      "5 -0.75 -1.3333333333333333\n",
      "6 -0.5 -2.0\n",
      "7 -0.25 -4.0\n",
      "8 0.0 1.0\n",
      "9 0.25 0.25\n",
      "10 0.5 0.5\n",
      "11 0.75 0.75\n",
      "12 1.0 1.0\n",
      "13 1.25 1.25\n",
      "14 1.5 1.5\n",
      "15 1.75 1.75\n",
      "16 2.0 2.0\n"
     ]
    }
   ],
   "source": [
    "for i  in range(len(x1)) :\n",
    "    print (i, x1[i], (x1**x3)[i])    "
   ]
  },
  {
   "cell_type": "markdown",
   "metadata": {},
   "source": [
    " #### ТРИГОНОМЕТРИЧЕСКИЕ ФУНКЦИИ  (sin, cos, ... , arcsin, arccos, ...)"
   ]
  },
  {
   "cell_type": "code",
   "execution_count": 27,
   "metadata": {},
   "outputs": [
    {
     "name": "stdout",
     "output_type": "stream",
     "text": [
      "0 -180 -1.2246467991473532e-16\n",
      "1 -170 -0.17364817766693028\n",
      "2 -160 -0.3420201433256689\n",
      "3 -150 -0.49999999999999994\n",
      "4 -140 -0.6427876096865395\n",
      "5 -130 -0.766044443118978\n",
      "6 -120 -0.8660254037844387\n",
      "7 -110 -0.9396926207859084\n",
      "8 -100 -0.984807753012208\n",
      "9 -90 -1.0\n",
      "10 -80 -0.984807753012208\n",
      "11 -70 -0.9396926207859083\n",
      "12 -60 -0.8660254037844386\n",
      "13 -50 -0.766044443118978\n",
      "14 -40 -0.6427876096865393\n",
      "15 -30 -0.49999999999999994\n",
      "16 -20 -0.3420201433256687\n",
      "17 -10 -0.17364817766693033\n",
      "18 0 0.0\n",
      "19 10 0.17364817766693033\n",
      "20 20 0.3420201433256687\n",
      "21 30 0.49999999999999994\n",
      "22 40 0.6427876096865393\n",
      "23 50 0.766044443118978\n",
      "24 60 0.8660254037844386\n",
      "25 70 0.9396926207859083\n",
      "26 80 0.984807753012208\n",
      "27 90 1.0\n",
      "28 100 0.984807753012208\n",
      "29 110 0.9396926207859084\n",
      "30 120 0.8660254037844387\n",
      "31 130 0.766044443118978\n",
      "32 140 0.6427876096865395\n",
      "33 150 0.49999999999999994\n",
      "34 160 0.3420201433256689\n",
      "35 170 0.17364817766693028\n",
      "36 180 1.2246467991473532e-16\n"
     ]
    }
   ],
   "source": [
    "angle = np.arange (-180, 181, 10)\n",
    "rat  =  np.pi / 180.0\n",
    "for i  in range(len(angle)) :\n",
    "    print (i, angle[i], (np.sin(rat*angle[i])))   \n"
   ]
  },
  {
   "cell_type": "markdown",
   "metadata": {},
   "source": [
    "### CРАВНЕНИЯ (greater, greater_equal, less, less_equal, equal, not_equal)"
   ]
  },
  {
   "cell_type": "code",
   "execution_count": 28,
   "metadata": {},
   "outputs": [
    {
     "name": "stdout",
     "output_type": "stream",
     "text": [
      "[ True  True  True  True  True  True  True  True False False False False\n",
      " False False False False False]\n"
     ]
    }
   ],
   "source": [
    "ar_less = x1 < x2\n",
    "print(ar_less)"
   ]
  },
  {
   "cell_type": "code",
   "execution_count": 29,
   "metadata": {},
   "outputs": [
    {
     "name": "stdout",
     "output_type": "stream",
     "text": [
      "[2.   1.75 1.5  1.25 1.   0.75 0.5  0.25 0.   0.25 0.5  0.75 1.   1.25\n",
      " 1.5  1.75 2.  ]\n"
     ]
    }
   ],
   "source": [
    "ar_max = np.fmax(x1,x2) # ПОЭЛЕМЕНТНО\n",
    "print(ar_max)"
   ]
  },
  {
   "cell_type": "code",
   "execution_count": 30,
   "metadata": {},
   "outputs": [
    {
     "name": "stdout",
     "output_type": "stream",
     "text": [
      "[-2.   -1.75 -1.5  -1.25 -1.   -1.   -1.   -1.    0.    0.25  0.5   0.75\n",
      "  1.    1.    1.    1.    1.  ]\n",
      "[-1.   -1.   -1.   -1.   -1.   -0.75 -0.5  -0.25  0.    1.    1.    1.\n",
      "  1.    1.25  1.5   1.75  2.  ]\n"
     ]
    }
   ],
   "source": [
    "print(np.minimum(x1,x3))\n",
    "print(np.maximum(x1,x3))"
   ]
  },
  {
   "cell_type": "markdown",
   "metadata": {},
   "source": [
    "### ЛОГИКА (and, or, not ....)"
   ]
  },
  {
   "cell_type": "code",
   "execution_count": 31,
   "metadata": {},
   "outputs": [
    {
     "name": "stdout",
     "output_type": "stream",
     "text": [
      "[ True  True  True  True  True  True  True  True False False False False\n",
      " False False False False False]\n"
     ]
    }
   ],
   "source": [
    "print(np.logical_and(x1,ar_less))"
   ]
  },
  {
   "cell_type": "markdown",
   "metadata": {},
   "source": [
    "### АГРЕГАТОРЫ (min, max, ...."
   ]
  },
  {
   "cell_type": "code",
   "execution_count": 32,
   "metadata": {},
   "outputs": [
    {
     "name": "stdout",
     "output_type": "stream",
     "text": [
      "-2.0\n",
      "2.0\n"
     ]
    }
   ],
   "source": [
    "print(np.min(x1))\n",
    "print(np.max(x1))"
   ]
  },
  {
   "cell_type": "markdown",
   "metadata": {},
   "source": [
    "### ГЕНЕРАТОР СЛУЧАЙНЫХ ЧИСЕЛ"
   ]
  },
  {
   "cell_type": "code",
   "execution_count": 33,
   "metadata": {},
   "outputs": [
    {
     "data": {
      "text/plain": [
       "-1.3108614284967022"
      ]
     },
     "execution_count": 33,
     "metadata": {},
     "output_type": "execute_result"
    }
   ],
   "source": [
    "from numpy.random import Generator, PCG64  # PCG64  - генератор случайных бит (один из возможных)\n",
    "rg = Generator(PCG64())\n",
    "rg.standard_normal()    # СЛУЧАЙНОЕ ЧИСЛО"
   ]
  },
  {
   "cell_type": "code",
   "execution_count": 34,
   "metadata": {},
   "outputs": [
    {
     "data": {
      "text/plain": [
       "array([ 1.58766736, -0.90169807, -1.17116407, -0.93634297, -1.32866151])"
      ]
     },
     "execution_count": 34,
     "metadata": {},
     "output_type": "execute_result"
    }
   ],
   "source": [
    "rg.standard_normal(5)    # ОДНОМЕРНЫЙ МАССИВ СЛУЧАЙНЫХ ЧИСЕЛ"
   ]
  },
  {
   "cell_type": "code",
   "execution_count": 35,
   "metadata": {},
   "outputs": [
    {
     "data": {
      "text/plain": [
       "array([[-0.14364551, -0.83517826,  0.43594819],\n",
       "       [-1.21910543, -1.91760658,  0.88747909]])"
      ]
     },
     "execution_count": 35,
     "metadata": {},
     "output_type": "execute_result"
    }
   ],
   "source": [
    "rg.standard_normal((2, 3)) # МАТРИЦА  СЛУЧАЙНЫХ ЧИСЕЛ"
   ]
  },
  {
   "cell_type": "code",
   "execution_count": 36,
   "metadata": {},
   "outputs": [
    {
     "data": {
      "text/plain": [
       "0.7215519976395426"
      ]
     },
     "execution_count": 36,
     "metadata": {},
     "output_type": "execute_result"
    }
   ],
   "source": [
    "rg.random()"
   ]
  },
  {
   "cell_type": "code",
   "execution_count": 37,
   "metadata": {},
   "outputs": [
    {
     "data": {
      "text/plain": [
       "array([0.03380221, 0.02907069, 0.11911143, 0.51312337, 0.83364091])"
      ]
     },
     "execution_count": 37,
     "metadata": {},
     "output_type": "execute_result"
    }
   ],
   "source": [
    "rg.random((5,))"
   ]
  },
  {
   "cell_type": "code",
   "execution_count": 38,
   "metadata": {},
   "outputs": [
    {
     "data": {
      "text/plain": [
       "array([  0,   7,  -8,   1,   6,  -1,   9,   2,   9, -10], dtype=int64)"
      ]
     },
     "execution_count": 38,
     "metadata": {},
     "output_type": "execute_result"
    }
   ],
   "source": [
    "rg.integers(-10,10,10,np.int64,False)"
   ]
  },
  {
   "cell_type": "code",
   "execution_count": 39,
   "metadata": {},
   "outputs": [
    {
     "data": {
      "text/plain": [
       "b'\\x7f?\\x87Q{'"
      ]
     },
     "execution_count": 39,
     "metadata": {},
     "output_type": "execute_result"
    }
   ],
   "source": [
    "rg.bytes(5)"
   ]
  },
  {
   "cell_type": "code",
   "execution_count": 40,
   "metadata": {},
   "outputs": [
    {
     "name": "stdout",
     "output_type": "stream",
     "text": [
      "[ 0.03952713  0.00598738 -0.10236693  0.07972858  0.01144096  0.2060646\n",
      "  0.08282963  0.03001647  0.08462616  0.00477409]\n"
     ]
    }
   ],
   "source": [
    "mu, sigma = 0, 0.1       # среднее и отклонение \n",
    "s = rg.normal(mu, sigma, 10)\n",
    "print (s)"
   ]
  },
  {
   "cell_type": "markdown",
   "metadata": {},
   "source": [
    "### СОРТИРОВКИ и др"
   ]
  },
  {
   "cell_type": "code",
   "execution_count": 41,
   "metadata": {},
   "outputs": [
    {
     "name": "stdout",
     "output_type": "stream",
     "text": [
      "[-18  -9   8 -13  13   9   5  -9  -8  -4]\n"
     ]
    }
   ],
   "source": [
    "rand_int = rg.integers(-20,20,10,np.int64,False)\n",
    "print (rand_int)"
   ]
  },
  {
   "cell_type": "code",
   "execution_count": 42,
   "metadata": {},
   "outputs": [
    {
     "name": "stdout",
     "output_type": "stream",
     "text": [
      "[-18 -13  -9  -9  -8  -4   5   8   9  13]\n"
     ]
    }
   ],
   "source": [
    "print(np.sort(rand_int))"
   ]
  },
  {
   "cell_type": "code",
   "execution_count": 43,
   "metadata": {},
   "outputs": [
    {
     "name": "stdout",
     "output_type": "stream",
     "text": [
      "[0 3 1 7 8 9 6 2 5 4]\n"
     ]
    }
   ],
   "source": [
    "print(np.argsort(rand_int))"
   ]
  },
  {
   "cell_type": "code",
   "execution_count": 44,
   "metadata": {},
   "outputs": [
    {
     "name": "stdout",
     "output_type": "stream",
     "text": [
      "4\n"
     ]
    }
   ],
   "source": [
    "print(np.argmax(rand_int))"
   ]
  },
  {
   "cell_type": "code",
   "execution_count": 45,
   "metadata": {},
   "outputs": [
    {
     "name": "stdout",
     "output_type": "stream",
     "text": [
      "0\n"
     ]
    }
   ],
   "source": [
    "print(np.argmin(rand_int))"
   ]
  },
  {
   "cell_type": "code",
   "execution_count": 46,
   "metadata": {},
   "outputs": [
    {
     "name": "stdout",
     "output_type": "stream",
     "text": [
      "[  2   3 -16 -12   2  -2  10  11  10 -10]\n"
     ]
    }
   ],
   "source": [
    "rand_int_ = rg.integers(-20,20,10,np.int64,False)\n",
    "print (rand_int_)"
   ]
  },
  {
   "cell_type": "code",
   "execution_count": 47,
   "metadata": {},
   "outputs": [
    {
     "name": "stdout",
     "output_type": "stream",
     "text": [
      "['no' 'no' '8' 'no' '13' '9' 'no' 'no' 'no' '-4']\n"
     ]
    }
   ],
   "source": [
    "print (np.where(rand_int > rand_int_, rand_int, 'no'))"
   ]
  },
  {
   "cell_type": "markdown",
   "metadata": {},
   "source": [
    "### ЛИНЕЙНАЯ АЛГЕБРА"
   ]
  },
  {
   "cell_type": "code",
   "execution_count": 80,
   "metadata": {},
   "outputs": [
    {
     "name": "stdout",
     "output_type": "stream",
     "text": [
      "[ -4  -4   1  -5   5  -4  -5 -10  -3  -3]\n",
      "[  1   7  -1  -8   7  -8   0 -10   0  -1]\n"
     ]
    }
   ],
   "source": [
    "vect_1 = rg.integers(-10,10,10,np.int64,False)  # СОЗДАЕМ 2 ВЕКТОРА 10 компонент\n",
    "vect_2 = rg.integers(-10,10,10,np.int64,False)\n",
    "print (vect_1)\n",
    "print (vect_2)"
   ]
  },
  {
   "cell_type": "code",
   "execution_count": 81,
   "metadata": {},
   "outputs": [
    {
     "name": "stdout",
     "output_type": "stream",
     "text": [
      "15.556349186104045\n"
     ]
    }
   ],
   "source": [
    "vect_norm = np.linalg.norm(vect_1)  # ЭВКЛИДОВА НОРМА ВЕКТОРА\n",
    "print(vect_norm)"
   ]
  },
  {
   "cell_type": "code",
   "execution_count": 82,
   "metadata": {},
   "outputs": [
    {
     "name": "stdout",
     "output_type": "stream",
     "text": [
      "177\n"
     ]
    }
   ],
   "source": [
    "scal_mult = np.dot(vect_1,vect_2)  # СКАЛЯРОНОЕ ПРОИЗВЕДЕНИЕ ВЕКТОРОВ\n",
    "print(scal_mult)"
   ]
  },
  {
   "cell_type": "code",
   "execution_count": 83,
   "metadata": {},
   "outputs": [
    {
     "name": "stdout",
     "output_type": "stream",
     "text": [
      "(100,)\n",
      "(10, 10)\n"
     ]
    }
   ],
   "source": [
    "# СОЗДАЕМ СЛУЧАЙНУЮ МАТРИЦУ А (10 Х 10)\n",
    "matr_A = rg.random(100,np.float32) * rg.integers(-10,10,100,np.int64,False)\n",
    "print (np.shape(matr_A))\n",
    "matr_A = np.reshape(matr_A , (10, 10))\n",
    "print (np.shape(matr_A))\n",
    "# print (matr_A)"
   ]
  },
  {
   "cell_type": "code",
   "execution_count": 84,
   "metadata": {},
   "outputs": [],
   "source": [
    "# СОЗДАЕМ СЛУЧАЙНЫЙ ВЕКТОР В (10)\n",
    "vect_B = rg.random(10,np.float32) * rg.integers(-15,15,10,np.int64,False)\n",
    "# print (vect_B)"
   ]
  },
  {
   "cell_type": "code",
   "execution_count": 87,
   "metadata": {},
   "outputs": [
    {
     "name": "stdout",
     "output_type": "stream",
     "text": [
      "[[-0.00910359 -0.08374228 -0.00075285  0.09169143  0.01110539 -0.03635008\n",
      "   0.14464799  0.11735614 -0.19577584 -0.15294098]\n",
      " [-0.09580212 -0.02451542  0.06719234 -0.04411631 -0.00681941  0.01201789\n",
      "  -0.17666248  0.0375137  -0.02629667  0.1478195 ]\n",
      " [ 0.02792142 -0.02688606 -0.04709989  0.01545198 -0.01850575 -0.1878339\n",
      "  -0.04838731  0.03266485  0.09980717  0.13190529]\n",
      " [-0.05644001 -0.00918658 -0.04713711 -0.01091719  0.01454059  0.27727466\n",
      "   0.12831036  0.05758931 -0.19931842 -0.24814417]\n",
      " [-0.0303655  -0.06081888 -0.01005589 -0.00912723 -0.02603199 -0.1630082\n",
      "   0.00146371  0.03512853  0.06500607 -0.06615075]\n",
      " [ 0.07088985  0.01942482 -0.00405942 -0.00687119  0.05573313  0.03594292\n",
      "   0.00648227 -0.0205618  -0.02872234 -0.07265281]\n",
      " [-0.04937935  0.04881218 -0.05839582 -0.06144377  0.02179645  0.01241261\n",
      "   0.05996257 -0.00709391 -0.11178371 -0.0705224 ]\n",
      " [-0.04569179 -0.05898042 -0.0341035  -0.12601969 -0.05246547 -0.0227545\n",
      "   0.03758657  0.01865714 -0.04911423 -0.02225156]\n",
      " [ 0.0687491  -0.04917074 -0.04078829  0.03483627 -0.10620997 -0.48946891\n",
      "  -0.23908884 -0.2105177   0.34885432  0.28992644]\n",
      " [ 0.17562455  0.17055494  0.15048485  0.18152358 -0.08735908 -0.12600682\n",
      "  -0.38736215 -0.16631121  0.36253146  0.38642528]]\n"
     ]
    }
   ],
   "source": [
    "# НАХОДИМ ОБРАТНУЮ МАТРИЦУ\n",
    "matr_invers = np.linalg.matrix_power(matr_A, -1)  # ОБРАТНАЯ МАТРИЦА\n",
    "print (matr_invers)"
   ]
  },
  {
   "cell_type": "code",
   "execution_count": 95,
   "metadata": {},
   "outputs": [
    {
     "name": "stdout",
     "output_type": "stream",
     "text": [
      "[ 3.26793582  0.59227898 -1.2440549   2.63394482 -0.99000028  0.61094416\n",
      "  1.24593864  0.50521779 -6.07221945 -4.69610157]\n"
     ]
    }
   ],
   "source": [
    "# НАХОДИМ РЕШЕНИЕ КАК ПРОИЗВЕДЕНИЕОБРАТНОЙ МАТРИЦЫ НА ВЕКТОР\n",
    "vect_X = np.matmul(matr_invers, vect_B)\n",
    "print (vect_X)"
   ]
  },
  {
   "cell_type": "code",
   "execution_count": 93,
   "metadata": {},
   "outputs": [],
   "source": [
    "# НАХОДИМ РЕШЕНИЕ СИСТЕМЫ АЛГЕБРАИЧЕСКИХ УРАВНЕНИЙ \"В ЛОБ\"\n",
    "vect_X_ = np.linalg.solve(matr_A, vect_B)"
   ]
  },
  {
   "cell_type": "code",
   "execution_count": 94,
   "metadata": {},
   "outputs": [
    {
     "name": "stdout",
     "output_type": "stream",
     "text": [
      "[ 3.26793582  0.59227898 -1.2440549   2.63394482 -0.99000028  0.61094416\n",
      "  1.24593864  0.50521779 -6.07221945 -4.69610157]\n"
     ]
    }
   ],
   "source": [
    "print (vect_X_)"
   ]
  },
  {
   "cell_type": "code",
   "execution_count": null,
   "metadata": {},
   "outputs": [],
   "source": []
  }
 ],
 "metadata": {
  "kernelspec": {
   "display_name": "Python 3",
   "language": "python",
   "name": "python3"
  },
  "language_info": {
   "codemirror_mode": {
    "name": "ipython",
    "version": 3
   },
   "file_extension": ".py",
   "mimetype": "text/x-python",
   "name": "python",
   "nbconvert_exporter": "python",
   "pygments_lexer": "ipython3",
   "version": "3.7.6"
  }
 },
 "nbformat": 4,
 "nbformat_minor": 4
}
