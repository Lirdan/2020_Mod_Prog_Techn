{
 "cells": [
  {
   "cell_type": "markdown",
   "metadata": {},
   "source": [
    "# LEC 11 PYTHON 10 CLASS 2  (Example 3)"
   ]
  },
  {
   "cell_type": "markdown",
   "metadata": {},
   "source": [
    "### ПЕРЕЗАГРУЗКА АРИФМЕТИЧЕСКИХ ОПЕРАТОРОВ"
   ]
  },
  {
   "cell_type": "markdown",
   "metadata": {},
   "source": [
    "### НА ПРИМЕРЕ КЛАССА ВЕКТОРОВ"
   ]
  },
  {
   "cell_type": "code",
   "execution_count": 29,
   "metadata": {},
   "outputs": [],
   "source": [
    "class Vector2D :                  # КЛАСС ДВУМЕРНЫХ ВЕКТОРОВ\n",
    "    def __init__(self,x,y):       # ИНИЦИАЛИЗАЦИЯ ЭКЗЕМПЛЯРА (ВЕКТОРА)\n",
    "        self.x = x\n",
    "        self.y = y\n",
    "    \n",
    "    def __repr__(self):             # ПЕРЕОПРЕДЕЛЕНИЕ ВЫВОДА \n",
    "        return 'Vector 2D ({},{})'.format(self.x,self.y)\n",
    "    \n",
    "    def __str__(self):             # ПЕРЕОПРЕДЕЛЕНИЕ ВЫВОДА  В ВИДЕ СТРОКИ\n",
    "        return '({},{})'.format(self.x,self.y)\n",
    "    \n",
    "    def __neg__(self):             # ПЕРЕОПРЕДЕЛЕНИЕ ОТРИЦАНИЯ\n",
    "        return Vector2D(-self.x, -self.y)\n",
    "        \n",
    "    def __add__(self, other):             # ПЕРЕОПРЕДЕЛЕНИЕ ОПЕРАЦИИ СЛОЖЕНИЯ ДЛЯ ВЕКТОРОВ\n",
    "        return Vector2D(self.x + other.x, self.y + other.y)\n",
    "    \n",
    "    def __iadd__(self, other):            # ПЕРЕОПРЕДЕЛЕНИЕ ОПЕРАЦИИ ИНКРЕМЕНТНОГО СЛОЖЕНИЯ ДЛЯ ВЕКТОРОВ\n",
    "        self.x += other.x\n",
    "        self.y += other.y\n",
    "        return self\n",
    "    \n",
    "    def __sub__(self, other):             # ПЕРЕОПРЕДЕЛЕНИЕ ОПЕРАЦИИ ВЫЧИТАНИЯ ДЛЯ ВЕКТОРОВ  \n",
    "        return Vector2D(self.x - other.x, self.y - other.y)\n",
    "    \n",
    "    def __isub__(self, other):           # ПЕРЕОПРЕДЕЛЕНИЕ ОПЕРАЦИИ ИНКРЕМЕНТНОГО ВЫЧИТАНИЯ ДЛЯ ВЕКТОРОВ\n",
    "        self.x -= other.x\n",
    "        self.y -= other.y\n",
    "        return self\n",
    "    \n",
    "     \n",
    "    def __abs__(self):                     # ПЕРЕОПРЕДЕЛЕНИЕ ФБСОЛЮТНОГО ЗНАЧЕНИЯ\n",
    "        import math\n",
    "        return math.sqrt(self.x*self.x + self.y * self.y)\n",
    "    \n",
    "    \n",
    "    "
   ]
  },
  {
   "cell_type": "code",
   "execution_count": 30,
   "metadata": {},
   "outputs": [
    {
     "data": {
      "text/plain": [
       "Vector 2D (3,4)"
      ]
     },
     "execution_count": 30,
     "metadata": {},
     "output_type": "execute_result"
    }
   ],
   "source": [
    "x = Vector2D(3,4)\n",
    "x                             # ВЫЗЫВАЕМ  ПЕРЕОПРЕДЕЛЕННУЮ REPR() "
   ]
  },
  {
   "cell_type": "code",
   "execution_count": 31,
   "metadata": {},
   "outputs": [
    {
     "name": "stdout",
     "output_type": "stream",
     "text": [
      "(3,4)\n"
     ]
    }
   ],
   "source": [
    "print(x)                 # ВЫЗЫВАЕМ  ПЕРЕОПРЕДЕЛЕННУЮ STR() "
   ]
  },
  {
   "cell_type": "code",
   "execution_count": 32,
   "metadata": {},
   "outputs": [
    {
     "data": {
      "text/plain": [
       "Vector 2D (10,20)"
      ]
     },
     "execution_count": 32,
     "metadata": {},
     "output_type": "execute_result"
    }
   ],
   "source": [
    "y = Vector2D(10,20)\n",
    "y"
   ]
  },
  {
   "cell_type": "code",
   "execution_count": 33,
   "metadata": {},
   "outputs": [
    {
     "data": {
      "text/plain": [
       "Vector 2D (13,24)"
      ]
     },
     "execution_count": 33,
     "metadata": {},
     "output_type": "execute_result"
    }
   ],
   "source": [
    "x+y"
   ]
  },
  {
   "cell_type": "code",
   "execution_count": 34,
   "metadata": {},
   "outputs": [
    {
     "data": {
      "text/plain": [
       "Vector 2D (-7,-16)"
      ]
     },
     "execution_count": 34,
     "metadata": {},
     "output_type": "execute_result"
    }
   ],
   "source": [
    "x-y"
   ]
  },
  {
   "cell_type": "code",
   "execution_count": 35,
   "metadata": {},
   "outputs": [
    {
     "data": {
      "text/plain": [
       "Vector 2D (6,8)"
      ]
     },
     "execution_count": 35,
     "metadata": {},
     "output_type": "execute_result"
    }
   ],
   "source": [
    "z=x+x\n",
    "z"
   ]
  },
  {
   "cell_type": "code",
   "execution_count": 36,
   "metadata": {},
   "outputs": [
    {
     "data": {
      "text/plain": [
       "Vector 2D (-6,-8)"
      ]
     },
     "execution_count": 36,
     "metadata": {},
     "output_type": "execute_result"
    }
   ],
   "source": [
    "-z"
   ]
  },
  {
   "cell_type": "code",
   "execution_count": 37,
   "metadata": {},
   "outputs": [],
   "source": [
    "z -= z"
   ]
  },
  {
   "cell_type": "code",
   "execution_count": 38,
   "metadata": {},
   "outputs": [
    {
     "data": {
      "text/plain": [
       "Vector 2D (0,0)"
      ]
     },
     "execution_count": 38,
     "metadata": {},
     "output_type": "execute_result"
    }
   ],
   "source": [
    "z"
   ]
  },
  {
   "cell_type": "code",
   "execution_count": 39,
   "metadata": {},
   "outputs": [
    {
     "data": {
      "text/plain": [
       "5.0"
      ]
     },
     "execution_count": 39,
     "metadata": {},
     "output_type": "execute_result"
    }
   ],
   "source": [
    "abs(x)"
   ]
  },
  {
   "cell_type": "code",
   "execution_count": null,
   "metadata": {},
   "outputs": [],
   "source": []
  }
 ],
 "metadata": {
  "kernelspec": {
   "display_name": "Python 3",
   "language": "python",
   "name": "python3"
  },
  "language_info": {
   "codemirror_mode": {
    "name": "ipython",
    "version": 3
   },
   "file_extension": ".py",
   "mimetype": "text/x-python",
   "name": "python",
   "nbconvert_exporter": "python",
   "pygments_lexer": "ipython3",
   "version": "3.7.6"
  }
 },
 "nbformat": 4,
 "nbformat_minor": 4
}
