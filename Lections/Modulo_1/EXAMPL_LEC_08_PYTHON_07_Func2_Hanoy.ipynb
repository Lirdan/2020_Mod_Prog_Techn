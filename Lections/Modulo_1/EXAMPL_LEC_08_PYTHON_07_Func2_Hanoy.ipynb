{
 "cells": [
  {
   "cell_type": "markdown",
   "metadata": {},
   "source": [
    "# EXAMPLES LEC 08 PYTHON 07 FUNCTION 2"
   ]
  },
  {
   "cell_type": "markdown",
   "metadata": {},
   "source": [
    "### РЕКУРСИВНЫЙ ПОИСК МАКСИМУМА В МАССИВЕ"
   ]
  },
  {
   "cell_type": "code",
   "execution_count": 10,
   "metadata": {},
   "outputs": [
    {
     "name": "stdout",
     "output_type": "stream",
     "text": [
      "МАССИВ [23, 45, 67, 24, 56, 547, 443, 32, 64436, 3463, 22, 34, -3]\n",
      "МКС Элем 64436\n",
      "МАССИВ (34, 14, 15, 34, 86, 45, 457, 54775, 5647456)\n",
      "МКС Элем 5647456\n",
      "МАССИВ ('rhei', 'ery', 'erty', 'ery', 'wtte')\n",
      "МКС Элем wtte\n"
     ]
    }
   ],
   "source": [
    "def max (array : ' array', l : 'low index', h: 'high index') -> 'max elevent' :\n",
    "    # print (\"IN\",l,h)\n",
    "    if l==h :\n",
    "        max_el = array[l]\n",
    "        \n",
    "    else :   \n",
    "        mdl = int((l+h)/2)\n",
    "        # print (mdl)\n",
    "        max_left  = max(array,l, mdl)\n",
    "        max_right = max(array, mdl+1, h)\n",
    "        # print(max_left, max_right)\n",
    "        if max_left > max_right :\n",
    "            max_el = max_left\n",
    "        else:     \n",
    "            max_el = max_right\n",
    "    return max_el\n",
    "    \n",
    "AR = [23,45,67,24,56,547,443,32,64436,3463,22,34,-3]    \n",
    "\n",
    "low = 0\n",
    "high = len(AR)-1\n",
    "\n",
    "MAX = max(AR,low,high)\n",
    "print ('МАССИВ',  AR)\n",
    "print ('МКС Элем',  MAX)    \n",
    "\n",
    "BR = (34,14,15, 34, 86, 45,457,54775,5647456)\n",
    "low = 0\n",
    "high = len(BR)-1\n",
    "\n",
    "MAX = max(BR,low,high)\n",
    "print ('МАССИВ',  BR)\n",
    "print ('МКС Элем',  MAX)    \n",
    "\n",
    "SR = ('rhei','ery', 'erty', 'ery', 'wtte')\n",
    "low = 0\n",
    "high = len(SR)-1\n",
    "\n",
    "MAX = max(SR,low,high)\n",
    "print ('МАССИВ',  SR)\n",
    "print ('МКС Элем',  MAX)    \n",
    "\n",
    "\n"
   ]
  },
  {
   "cell_type": "markdown",
   "metadata": {},
   "source": [
    "# **СОРТИРОВКА MERGE**"
   ]
  },
  {
   "cell_type": "markdown",
   "metadata": {},
   "source": [
    "### ФУНКЦИЯ  MERGE"
   ]
  },
  {
   "cell_type": "code",
   "execution_count": 56,
   "metadata": {},
   "outputs": [
    {
     "name": "stdout",
     "output_type": "stream",
     "text": [
      "MERGE IN [18, 9] [45] 2 1 3 1\n",
      "2 0\n",
      "MERGE RESULT [18, 9, 45]\n",
      "ВЫХОД [18, 9, 45]\n"
     ]
    }
   ],
   "source": [
    "\n",
    "def merge (AL : 'left array',AR: 'rihgt array') -> 'mergeted array':\n",
    "    \n",
    "    RES = []\n",
    "    al_len = len(AL)\n",
    "    ar_len = len(AR)\n",
    "    res_len  = al_len + ar_len\n",
    "    \n",
    "    min_len = al_len\n",
    "    if al_len > ar_len : min_len = ar_len\n",
    "    \n",
    "    print ('MERGE IN', AL, AR, al_len, ar_len, res_len, min_len)\n",
    "       \n",
    "    i = 0\n",
    "    j = 0\n",
    "    for k in range (res_len) :\n",
    "        if i<al_len and j<ar_len :\n",
    "            if AL[i] < AR[j] :\n",
    "                RES.append(AL[i])\n",
    "                i += 1\n",
    "            else:\n",
    "                RES.append(AR[j])\n",
    "                j += 1\n",
    "        \n",
    "    print (i , j)   \n",
    "        \n",
    "    if i <=  al_len - 1 :\n",
    "        for l in range (i , al_len) :\n",
    "            RES.append(AL[l])\n",
    "        \n",
    "    if j <= ar_len - 1 :\n",
    "        for l in range (j, ar_len):\n",
    "            RES.append(AR[l])\n",
    "    \n",
    "    print ('MERGE RESULT', RES)        \n",
    "    return RES    \n",
    "\n",
    "AL= [18, 9] \n",
    "AR= [45]\n",
    "\n",
    "MER = merge (AL, AR)\n",
    "print ('ВЫХОД', MER)\n",
    "\n"
   ]
  },
  {
   "cell_type": "markdown",
   "metadata": {},
   "source": [
    "### ФУНКЦИЯ СОРТИРОВКИ С РЕКУРСИВНЫМ ВЫЗОВОМ"
   ]
  },
  {
   "cell_type": "code",
   "execution_count": 58,
   "metadata": {},
   "outputs": [
    {
     "name": "stdout",
     "output_type": "stream",
     "text": [
      "IN [34, 4, 65, 23, 2, 9, 18, 45, 18, 36, -2, 12, 81] LO indx 0 HI indx 12\n",
      "MDL 6 [34, 4, 65, 23, 2, 9, 18] [45, 18, 36, -2, 12, 81]\n",
      "IN [34, 4, 65, 23, 2, 9, 18] LO indx 0 HI indx 6\n",
      "MDL 3 [34, 4, 65, 23] [2, 9, 18]\n",
      "IN [34, 4, 65, 23] LO indx 0 HI indx 3\n",
      "MDL 1 [34, 4] [65, 23]\n",
      "IN [34, 4] LO indx 0 HI indx 1\n",
      "ELSE [34, 4] 0 1\n",
      "OUT 1 [4, 34]\n",
      "IN [65, 23] LO indx 0 HI indx 1\n",
      "ELSE [65, 23] 0 1\n",
      "OUT 1 [23, 65]\n",
      "MERGE IN [4, 34] [23, 65] 2 2 4 2\n",
      "2 1\n",
      "MERGE RESULT [4, 23, 34, 65]\n",
      "AFTER MERGE [4, 23, 34, 65]\n",
      "IN [2, 9, 18] LO indx 0 HI indx 2\n",
      "MDL 1 [2, 9] [18]\n",
      "IN [2, 9] LO indx 0 HI indx 1\n",
      "ELSE [2, 9] 0 1\n",
      "OUT 1 [2, 9]\n",
      "IN [18] LO indx 0 HI indx 0\n",
      "OUT 2 [18]\n",
      "MERGE IN [2, 9] [18] 2 1 3 1\n",
      "2 0\n",
      "MERGE RESULT [2, 9, 18]\n",
      "AFTER MERGE [2, 9, 18]\n",
      "MERGE IN [4, 23, 34, 65] [2, 9, 18] 4 3 7 3\n",
      "1 3\n",
      "MERGE RESULT [2, 4, 9, 18, 23, 34, 65]\n",
      "AFTER MERGE [2, 4, 9, 18, 23, 34, 65]\n",
      "IN [45, 18, 36, -2, 12, 81] LO indx 0 HI indx 5\n",
      "MDL 2 [45, 18, 36] [-2, 12, 81]\n",
      "IN [45, 18, 36] LO indx 0 HI indx 2\n",
      "MDL 1 [45, 18] [36]\n",
      "IN [45, 18] LO indx 0 HI indx 1\n",
      "ELSE [45, 18] 0 1\n",
      "OUT 1 [18, 45]\n",
      "IN [36] LO indx 0 HI indx 0\n",
      "OUT 2 [36]\n",
      "MERGE IN [18, 45] [36] 2 1 3 1\n",
      "1 1\n",
      "MERGE RESULT [18, 36, 45]\n",
      "AFTER MERGE [18, 36, 45]\n",
      "IN [-2, 12, 81] LO indx 0 HI indx 2\n",
      "MDL 1 [-2, 12] [81]\n",
      "IN [-2, 12] LO indx 0 HI indx 1\n",
      "ELSE [-2, 12] 0 1\n",
      "OUT 1 [-2, 12]\n",
      "IN [81] LO indx 0 HI indx 0\n",
      "OUT 2 [81]\n",
      "MERGE IN [-2, 12] [81] 2 1 3 1\n",
      "2 0\n",
      "MERGE RESULT [-2, 12, 81]\n",
      "AFTER MERGE [-2, 12, 81]\n",
      "MERGE IN [18, 36, 45] [-2, 12, 81] 3 3 6 3\n",
      "3 2\n",
      "MERGE RESULT [-2, 12, 18, 36, 45, 81]\n",
      "AFTER MERGE [-2, 12, 18, 36, 45, 81]\n",
      "MERGE IN [2, 4, 9, 18, 23, 34, 65] [-2, 12, 18, 36, 45, 81] 7 6 13 6\n",
      "7 5\n",
      "MERGE RESULT [-2, 2, 4, 9, 12, 18, 18, 23, 34, 36, 45, 65, 81]\n",
      "AFTER MERGE [-2, 2, 4, 9, 12, 18, 18, 23, 34, 36, 45, 65, 81]\n",
      "ВЫХОД [-2, 2, 4, 9, 12, 18, 18, 23, 34, 36, 45, 65, 81]\n"
     ]
    }
   ],
   "source": [
    "\n",
    "def sort (array_for_sort):\n",
    "    buf = []\n",
    "    l = 0\n",
    "    h = len(array_for_sort) - 1\n",
    "    print ('IN', array_for_sort, 'LO indx',l,'HI indx',h)\n",
    "    if h-l > 1 :\n",
    "        mdl = int ((l+h)/2)\n",
    "        A_l = array_for_sort [ : mdl+1]            \n",
    "        A_r = array_for_sort [mdl+1 : ]\n",
    "        print('MDL', mdl, A_l,A_r )\n",
    "        A_ll = sort(A_l)\n",
    "        A_rr = sort(A_r)\n",
    "        result = merge (A_ll, A_rr)\n",
    "        print ('AFTER MERGE', result)\n",
    "        return result\n",
    "    elif h-l == 1 :     \n",
    "        print ('ELSE', array_for_sort,l,h)\n",
    "        \n",
    "        if  array_for_sort[0] < array_for_sort[1] :\n",
    "            buf.append (array_for_sort[0])\n",
    "            buf.append (array_for_sort[1])                                                \n",
    "        else : \n",
    "            buf.append (array_for_sort[1])\n",
    "            buf.append (array_for_sort[0])                                                \n",
    "        print (\"OUT 1\", buf)           \n",
    "        return buf \n",
    "    else :             \n",
    "        buf.append( array_for_sort[0])\n",
    "        print (\"OUT 2\", buf)           \n",
    "        return buf \n",
    "    \n",
    "\n",
    "#ARRAY = [34,4,2]\n",
    "# ARRAY = [34,4,65,23]\n",
    "# ARRAY = [34,4,65,23,2,9,18,45,18,36]\n",
    "ARRAY = [34,4,65,23,2,9,18,45,18,36,-2,12,81]\n",
    "\n",
    "SORTED = sort (ARRAY)\n",
    "# SORTED = merge (A_l,A_r)\n",
    "print ('ВЫХОД',SORTED)\n",
    "\n"
   ]
  },
  {
   "cell_type": "code",
   "execution_count": 8,
   "metadata": {},
   "outputs": [],
   "source": [
    "### ЗАДАЧА О ХАНОЙСКИХ БАШНЯХ РЕКУРСИВНОЕ РЕШЕНИЕ"
   ]
  },
  {
   "cell_type": "code",
   "execution_count": null,
   "metadata": {},
   "outputs": [],
   "source": [
    "def moveTower(height, FromTower, ToTower, WithTower):\n",
    "    if height >= 1:\n",
    "        moveTower(height-1, FromTower,WithTower, ToTower)\n",
    "        moveDisk(height,FromTower,ToTower)\n",
    "        moveTower(height-1,WithTower,ToTower,FromTower)\n",
    "\n",
    "def moveDisk(he, fp,tp):\n",
    "    print(\"moving disk\", he, \"from\",fp,\"to\",tp)\n",
    "\n",
    "moveTower (5, 'A','B','C')"
   ]
  }
 ],
 "metadata": {
  "kernelspec": {
   "display_name": "Python 3",
   "language": "python",
   "name": "python3"
  },
  "language_info": {
   "codemirror_mode": {
    "name": "ipython",
    "version": 3
   },
   "file_extension": ".py",
   "mimetype": "text/x-python",
   "name": "python",
   "nbconvert_exporter": "python",
   "pygments_lexer": "ipython3",
   "version": "3.7.6"
  }
 },
 "nbformat": 4,
 "nbformat_minor": 4
}
