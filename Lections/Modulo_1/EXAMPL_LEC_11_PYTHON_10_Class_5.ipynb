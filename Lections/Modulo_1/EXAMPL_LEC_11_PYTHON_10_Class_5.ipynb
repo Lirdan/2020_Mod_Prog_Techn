{
 "cells": [
  {
   "cell_type": "markdown",
   "metadata": {},
   "source": [
    "# LEC 11 PYTHON 10 CLASS 2  (Example 5)"
   ]
  },
  {
   "cell_type": "markdown",
   "metadata": {},
   "source": [
    "### ГЕНЕРАТОРЫ"
   ]
  },
  {
   "cell_type": "markdown",
   "metadata": {},
   "source": [
    "#### ГЕНЕРАТОР - ФУНКЦИЯ"
   ]
  },
  {
   "cell_type": "code",
   "execution_count": 65,
   "metadata": {},
   "outputs": [],
   "source": [
    "def cs_18_students_generator () :\n",
    "    yield 'Rogoza'\n",
    "    for  stud in ['Kaydash','Koversun','Korovin','Medik','Popov','Skrinnik']:\n",
    "        yield stud\n",
    "    yield 'Sikirina'"
   ]
  },
  {
   "cell_type": "markdown",
   "metadata": {},
   "source": [
    "#### СВОЙСТВА"
   ]
  },
  {
   "cell_type": "code",
   "execution_count": 66,
   "metadata": {},
   "outputs": [
    {
     "data": {
      "text/plain": [
       "<function __main__.cs_18_students_generator()>"
      ]
     },
     "execution_count": 66,
     "metadata": {},
     "output_type": "execute_result"
    }
   ],
   "source": [
    "cs_18_students_generator"
   ]
  },
  {
   "cell_type": "markdown",
   "metadata": {},
   "source": [
    "#### Генератор в цикле FOR"
   ]
  },
  {
   "cell_type": "code",
   "execution_count": 67,
   "metadata": {},
   "outputs": [
    {
     "name": "stdout",
     "output_type": "stream",
     "text": [
      "Студент группы КН-18  Rogoza\n",
      "Студент группы КН-18  Kaydash\n",
      "Студент группы КН-18  Koversun\n",
      "Студент группы КН-18  Korovin\n",
      "Студент группы КН-18  Medik\n",
      "Студент группы КН-18  Popov\n",
      "Студент группы КН-18  Skrinnik\n",
      "Студент группы КН-18  Sikirina\n"
     ]
    }
   ],
   "source": [
    "for person  in cs_18_students_generator():    ### ВЫЗЫВАЕТСЯ МЕТОД  __next__ ИТЕРАТОРА\n",
    "    print ('Студент группы КН-18 ',person)"
   ]
  },
  {
   "cell_type": "markdown",
   "metadata": {},
   "source": [
    "#### ИСПОЛЬЗОВАНИЕ ГЕНЕРАТОРА - ВЫРАЖЕНИЯ"
   ]
  },
  {
   "cell_type": "code",
   "execution_count": 68,
   "metadata": {},
   "outputs": [
    {
     "data": {
      "text/plain": [
       "True"
      ]
     },
     "execution_count": 68,
     "metadata": {},
     "output_type": "execute_result"
    }
   ],
   "source": [
    "num = (i for i in range (1,21))   # ГЕНЕРАТОР - ВЫРАЖЕНИЕ\n",
    "hasattr(num,'__iter__')  # ПРОВЕРЯЕМ ОТДЕЛЬНО __ITER__   --> TRUE"
   ]
  },
  {
   "cell_type": "code",
   "execution_count": 69,
   "metadata": {},
   "outputs": [
    {
     "name": "stdout",
     "output_type": "stream",
     "text": [
      "1 Студент группы КН-18  Rogoza\n",
      "2 Студент группы КН-18  Kaydash\n",
      "3 Студент группы КН-18  Koversun\n",
      "4 Студент группы КН-18  Korovin\n",
      "5 Студент группы КН-18  Medik\n",
      "6 Студент группы КН-18  Popov\n",
      "7 Студент группы КН-18  Skrinnik\n",
      "8 Студент группы КН-18  Sikirina\n"
     ]
    }
   ],
   "source": [
    "for person  in cs_18_students_generator():    ### ВЫЗЫВАЕТСЯ МЕТОД  __next__ ИТЕРАТОРА\n",
    "    print (next(num), 'Студент группы КН-18 ',person)"
   ]
  },
  {
   "cell_type": "markdown",
   "metadata": {},
   "source": [
    "#### ??? Почему только 8 раз выполнился цикл, хотя предполагается 20 студентов"
   ]
  },
  {
   "cell_type": "markdown",
   "metadata": {},
   "source": [
    "### ПРИМЕР ИТЕРИРУЕМОГО КЛАССА\n",
    "#### СЛУЧАЙНЫЕ ЧИСЛА, КАЖДОЕ СЛЕДУЮЩЕЕ БОЛЬШЕ ПРЕДЫДУЩЕГО"
   ]
  },
  {
   "cell_type": "code",
   "execution_count": 11,
   "metadata": {},
   "outputs": [],
   "source": [
    "from random import random\n",
    "\n",
    "class RandMyClass :\n",
    "    def __init__(self, quantity):\n",
    "        self.qty = quantity\n",
    "        self.cur = 0\n",
    "    \n",
    "    def __iter__ (self):\n",
    "        return self \n",
    "    \n",
    "    def __next__(self):\n",
    "        if self.qty > 0 :\n",
    "            incr = random()\n",
    "            self.cur += incr \n",
    "            self.qty -= 1\n",
    "            print (self.qty,incr, self.cur  )\n",
    "            return round(self.cur, 2)\n",
    "        else :\n",
    "            raise StopIteration\n",
    "            "
   ]
  },
  {
   "cell_type": "code",
   "execution_count": 12,
   "metadata": {},
   "outputs": [
    {
     "data": {
      "text/plain": [
       "mappingproxy({'__module__': '__main__',\n",
       "              '__init__': <function __main__.RandMyClass.__init__(self, quantity)>,\n",
       "              '__iter__': <function __main__.RandMyClass.__iter__(self)>,\n",
       "              '__next__': <function __main__.RandMyClass.__next__(self)>,\n",
       "              '__dict__': <attribute '__dict__' of 'RandMyClass' objects>,\n",
       "              '__weakref__': <attribute '__weakref__' of 'RandMyClass' objects>,\n",
       "              '__doc__': None})"
      ]
     },
     "execution_count": 12,
     "metadata": {},
     "output_type": "execute_result"
    }
   ],
   "source": [
    "RandMyClass.__dict__  # СМОТРИМ МЕТОДЫ КЛАССА !!!! ITER & NEXT   есть!  "
   ]
  },
  {
   "cell_type": "code",
   "execution_count": 14,
   "metadata": {},
   "outputs": [
    {
     "data": {
      "text/plain": [
       "True"
      ]
     },
     "execution_count": 14,
     "metadata": {},
     "output_type": "execute_result"
    }
   ],
   "source": [
    "hasattr(RandMyClass,'__iter__')  # ПРОВЕРЯЕМ ОТДЕЛЬНО __ITER__   --> TRUE"
   ]
  },
  {
   "cell_type": "code",
   "execution_count": 31,
   "metadata": {},
   "outputs": [],
   "source": [
    "my_rand_iter =  RandMyClass (5)"
   ]
  },
  {
   "cell_type": "code",
   "execution_count": 32,
   "metadata": {
    "jupyter": {
     "source_hidden": true
    }
   },
   "outputs": [
    {
     "name": "stdout",
     "output_type": "stream",
     "text": [
      "4 0.2741178845802792 0.2741178845802792\n",
      "РЕЗУЛЬТАТ 0.27\n",
      "3 0.025419740340584807 0.299537624920864\n",
      "РЕЗУЛЬТАТ 0.3\n",
      "2 0.9393913024494558 1.2389289273703197\n",
      "РЕЗУЛЬТАТ 1.24\n",
      "1 0.22786859954121708 1.4667975269115368\n",
      "РЕЗУЛЬТАТ 1.47\n",
      "0 0.46115364611552523 1.927951173027062\n",
      "РЕЗУЛЬТАТ 1.93\n"
     ]
    }
   ],
   "source": [
    "for i in my_rand_iter:\n",
    "    print('РЕЗУЛЬТАТ', i)"
   ]
  }
 ],
 "metadata": {
  "kernelspec": {
   "display_name": "Python 3",
   "language": "python",
   "name": "python3"
  },
  "language_info": {
   "codemirror_mode": {
    "name": "ipython",
    "version": 3
   },
   "file_extension": ".py",
   "mimetype": "text/x-python",
   "name": "python",
   "nbconvert_exporter": "python",
   "pygments_lexer": "ipython3",
   "version": "3.7.6"
  }
 },
 "nbformat": 4,
 "nbformat_minor": 4
}
