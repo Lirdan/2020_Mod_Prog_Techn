{
 "cells": [
  {
   "cell_type": "markdown",
   "metadata": {},
   "source": [
    "# LEC 11 PYTHON 10 CLASS 2  (Example 1)"
   ]
  },
  {
   "cell_type": "markdown",
   "metadata": {},
   "source": [
    "### ПЕРЕЗАГРУЗКА ОПЕРАТОРА __INIT__"
   ]
  },
  {
   "cell_type": "markdown",
   "metadata": {},
   "source": [
    "### ПЕРВЫЙ КЛАСС"
   ]
  },
  {
   "cell_type": "code",
   "execution_count": 2,
   "metadata": {},
   "outputs": [],
   "source": [
    "class FirstClass:\n",
    "    def __init__(self):\n",
    "        self.data = 'ЭТО ПЕРВЫЙ КЛАСС'\n",
    "    def setdata(self, value):\n",
    "        self.data = value\n",
    "    def display (self):\n",
    "        print(self.data)"
   ]
  },
  {
   "cell_type": "code",
   "execution_count": 4,
   "metadata": {},
   "outputs": [
    {
     "name": "stdout",
     "output_type": "stream",
     "text": [
      "ЭТО ПЕРВЫЙ КЛАСС\n"
     ]
    }
   ],
   "source": [
    "x = FirstClass()\n",
    "x.display()"
   ]
  },
  {
   "cell_type": "markdown",
   "metadata": {},
   "source": [
    "### ВТОРОЙ КЛАСС (ПОДКЛАСС ПЕРВОГО)"
   ]
  },
  {
   "cell_type": "code",
   "execution_count": 7,
   "metadata": {},
   "outputs": [],
   "source": [
    "class SecondClass(FirstClass):\n",
    "    def __init__(self, value):\n",
    "        self.data = 'ЭТО ВТОРОЙ КЛАСС'+ str(value)    "
   ]
  },
  {
   "cell_type": "code",
   "execution_count": 8,
   "metadata": {},
   "outputs": [],
   "source": [
    "y = SecondClass(' ПРИМЕР переопределения __init__')"
   ]
  },
  {
   "cell_type": "code",
   "execution_count": 10,
   "metadata": {},
   "outputs": [
    {
     "name": "stdout",
     "output_type": "stream",
     "text": [
      "ЭТО ВТОРОЙ КЛАСС ПРИМЕР переопределения __init__\n"
     ]
    }
   ],
   "source": [
    "y.display()"
   ]
  },
  {
   "cell_type": "markdown",
   "metadata": {
    "jupyter": {
     "source_hidden": true
    }
   },
   "source": [
    "### КЛАСС ТРИ"
   ]
  },
  {
   "cell_type": "code",
   "execution_count": 16,
   "metadata": {},
   "outputs": [],
   "source": [
    "class Class_3:\n",
    "    def __init__(self, name, pay):\n",
    "        self.data_1 = name\n",
    "        self.data_2 = pay\n",
    "    def display (self):\n",
    "        print(self.data_1, self.data_2)"
   ]
  },
  {
   "cell_type": "code",
   "execution_count": 17,
   "metadata": {},
   "outputs": [],
   "source": [
    "person_1 = Class_3('Ivanov',100)\n",
    "person_2 = Class_3('Perov', 200)"
   ]
  },
  {
   "cell_type": "code",
   "execution_count": 18,
   "metadata": {},
   "outputs": [
    {
     "name": "stdout",
     "output_type": "stream",
     "text": [
      "Ivanov 100\n"
     ]
    }
   ],
   "source": [
    "person_1.display()"
   ]
  },
  {
   "cell_type": "markdown",
   "metadata": {},
   "source": [
    "### КЛАСС ЧЕТРЫЕ"
   ]
  },
  {
   "cell_type": "markdown",
   "metadata": {},
   "source": [
    "### ПЕРЕОПРЕДЕЛЯЕМ INIT КЛАССА, НАСЛЕДУЯ INIT СУПЕРКАЛАССА"
   ]
  },
  {
   "cell_type": "code",
   "execution_count": 24,
   "metadata": {},
   "outputs": [],
   "source": [
    "class Class_4 (Class_3):\n",
    "    def __init__(self, name, pay, position):\n",
    "        Class_3.__init__(self, name, pay)\n",
    "        self.data_3 = position\n",
    "    def display (self):\n",
    "        print(self.data_1, self.data_2, self.data_3)"
   ]
  },
  {
   "cell_type": "code",
   "execution_count": 27,
   "metadata": {},
   "outputs": [],
   "source": [
    "person_3 = Class_4('Kulik', 300, 'director')"
   ]
  },
  {
   "cell_type": "code",
   "execution_count": 28,
   "metadata": {},
   "outputs": [
    {
     "name": "stdout",
     "output_type": "stream",
     "text": [
      "Kulik 300 director\n"
     ]
    }
   ],
   "source": [
    "person_3.display() "
   ]
  },
  {
   "cell_type": "code",
   "execution_count": null,
   "metadata": {},
   "outputs": [],
   "source": []
  }
 ],
 "metadata": {
  "kernelspec": {
   "display_name": "Python 3",
   "language": "python",
   "name": "python3"
  },
  "language_info": {
   "codemirror_mode": {
    "name": "ipython",
    "version": 3
   },
   "file_extension": ".py",
   "mimetype": "text/x-python",
   "name": "python",
   "nbconvert_exporter": "python",
   "pygments_lexer": "ipython3",
   "version": "3.7.6"
  }
 },
 "nbformat": 4,
 "nbformat_minor": 4
}
