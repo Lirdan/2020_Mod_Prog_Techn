{
 "cells": [
  {
   "cell_type": "markdown",
   "metadata": {},
   "source": [
    "# LEC 11 PYTHON 10 CLASS 2  (Example 2)"
   ]
  },
  {
   "cell_type": "markdown",
   "metadata": {},
   "source": [
    "### ПЕРЕЗАГРУЗКА ОПЕРАТОРА __str__, __repr__"
   ]
  },
  {
   "cell_type": "markdown",
   "metadata": {},
   "source": [
    "### ПЕРВЫЙ КЛАСС"
   ]
  },
  {
   "cell_type": "code",
   "execution_count": 5,
   "metadata": {},
   "outputs": [],
   "source": [
    "class FirstClass:\n",
    "    def setdata(self, value):\n",
    "        self.data = value\n",
    "    def display (self):\n",
    "        print(self.data)"
   ]
  },
  {
   "cell_type": "code",
   "execution_count": 6,
   "metadata": {},
   "outputs": [
    {
     "data": {
      "text/plain": [
       "<__main__.FirstClass at 0x29ad3347c08>"
      ]
     },
     "execution_count": 6,
     "metadata": {},
     "output_type": "execute_result"
    }
   ],
   "source": [
    "x = FirstClass()\n",
    "y = FirstClass()\n",
    "x                   ### ОБРАТИТЕ ВНИМАНИЕ НА ОТОБРАЖЕНИЕ"
   ]
  },
  {
   "cell_type": "code",
   "execution_count": 55,
   "metadata": {},
   "outputs": [
    {
     "name": "stdout",
     "output_type": "stream",
     "text": [
      "<__main__.FirstClass object at 0x0000029AD3347C08>\n"
     ]
    }
   ],
   "source": [
    "print(x)                   ### ОБРАТИТЕ ВНИМАНИЕ НА ОТОБРАЖЕНИЕ"
   ]
  },
  {
   "cell_type": "code",
   "execution_count": 10,
   "metadata": {},
   "outputs": [
    {
     "name": "stdout",
     "output_type": "stream",
     "text": [
      "ЭТО ПЕРВЫЙ КЛАСС\n",
      "3.14\n"
     ]
    }
   ],
   "source": [
    "x.setdata('ЭТО ПЕРВЫЙ КЛАСС')\n",
    "x.display()"
   ]
  },
  {
   "cell_type": "markdown",
   "metadata": {},
   "source": [
    "### ВТОРОЙ КЛАСС"
   ]
  },
  {
   "cell_type": "code",
   "execution_count": 14,
   "metadata": {},
   "outputs": [],
   "source": [
    "class SecondClass (FirstClass):\n",
    "    def display (self):\n",
    "        print('ТЕКУЩЕЕ ЗНАЧЕНИЕ = \"%s\" ' % self.data)"
   ]
  },
  {
   "cell_type": "code",
   "execution_count": 20,
   "metadata": {},
   "outputs": [
    {
     "data": {
      "text/plain": [
       "<__main__.SecondClass at 0x29ad3361dc8>"
      ]
     },
     "execution_count": 20,
     "metadata": {},
     "output_type": "execute_result"
    }
   ],
   "source": [
    "z  = SecondClass()\n",
    "z.setdata (\"HO HO\")\n",
    "z                   ### ОБРАТИТЕ ВНИМАНИЕ НА ОТОБРАЖЕНИЕ"
   ]
  },
  {
   "cell_type": "code",
   "execution_count": 19,
   "metadata": {},
   "outputs": [
    {
     "name": "stdout",
     "output_type": "stream",
     "text": [
      "ТЕКУЩЕЕ ЗНАЧЕНИЕ = \"HO HO\" \n"
     ]
    }
   ],
   "source": [
    "z.display()                 "
   ]
  },
  {
   "cell_type": "markdown",
   "metadata": {},
   "source": [
    "### ТРЕТИЙ КЛАСС = ПЕРВЙ КЛАСС , НО  --- ПЕРЕОПРЕДЕЛЯЕМ REPR  "
   ]
  },
  {
   "cell_type": "code",
   "execution_count": 46,
   "metadata": {},
   "outputs": [],
   "source": [
    "class ThrClass:\n",
    "    def __repr__ (self):\n",
    "        return 'ЭТО КЛАСС ТРИ ({})'.format(self.data)\n",
    "    def setdata(self, value):\n",
    "        self.data = value\n",
    "    def display (self):\n",
    "        print(self.data)"
   ]
  },
  {
   "cell_type": "code",
   "execution_count": 47,
   "metadata": {},
   "outputs": [
    {
     "data": {
      "text/plain": [
       "ЭТО КЛАСС ТРИ (ВЫВОД через __REPR__)"
      ]
     },
     "execution_count": 47,
     "metadata": {},
     "output_type": "execute_result"
    }
   ],
   "source": [
    "w = ThrClass()\n",
    "w.setdata ('ВЫВОД через __REPR__')\n",
    "w                                   ### ОБРАТИТЕ ВНИМАНИЕ НА ОТОБРАЖЕНИЕ"
   ]
  },
  {
   "cell_type": "code",
   "execution_count": 56,
   "metadata": {},
   "outputs": [
    {
     "name": "stdout",
     "output_type": "stream",
     "text": [
      "ЭТО КЛАСС ТРИ (ВЫВОД через __REPR__)\n"
     ]
    }
   ],
   "source": [
    "print(w)                                   ### ОБРАТИТЕ ВНИМАНИЕ НА ОТОБРАЖЕНИЕ"
   ]
  },
  {
   "cell_type": "code",
   "execution_count": 50,
   "metadata": {},
   "outputs": [],
   "source": [
    "class ForClass:\n",
    "    def __str__ (self):\n",
    "        return '({})'.format(self.data)    \n",
    "    def setdata(self, value):\n",
    "        self.data = value\n",
    "    def display (self):\n",
    "        print(self.data)"
   ]
  },
  {
   "cell_type": "code",
   "execution_count": 57,
   "metadata": {},
   "outputs": [
    {
     "data": {
      "text/plain": [
       "<__main__.ForClass at 0x29ad3361188>"
      ]
     },
     "execution_count": 57,
     "metadata": {},
     "output_type": "execute_result"
    }
   ],
   "source": [
    "v= ForClass()\n",
    "v.setdata ('ВЫВОД через __STR__')\n",
    "v                                   ### ОБРАТИТЕ ВНИМАНИЕ НА ОТОБРАЖЕНИЕ"
   ]
  },
  {
   "cell_type": "code",
   "execution_count": 58,
   "metadata": {},
   "outputs": [
    {
     "name": "stdout",
     "output_type": "stream",
     "text": [
      "(ВЫВОД через __STR__)\n"
     ]
    }
   ],
   "source": [
    "print(v)                                   ### ОБРАТИТЕ ВНИМАНИЕ НА ОТОБРАЖЕНИЕ"
   ]
  }
 ],
 "metadata": {
  "kernelspec": {
   "display_name": "Python 3",
   "language": "python",
   "name": "python3"
  },
  "language_info": {
   "codemirror_mode": {
    "name": "ipython",
    "version": 3
   },
   "file_extension": ".py",
   "mimetype": "text/x-python",
   "name": "python",
   "nbconvert_exporter": "python",
   "pygments_lexer": "ipython3",
   "version": "3.7.6"
  }
 },
 "nbformat": 4,
 "nbformat_minor": 4
}
