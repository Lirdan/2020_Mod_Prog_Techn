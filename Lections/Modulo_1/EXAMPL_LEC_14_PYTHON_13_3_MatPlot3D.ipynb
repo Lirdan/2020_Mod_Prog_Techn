{
 "cells": [
  {
   "cell_type": "markdown",
   "metadata": {},
   "source": [
    "LEC 14 PYTHON 13 MatPlotLib Examples 3"
   ]
  },
  {
   "cell_type": "markdown",
   "metadata": {},
   "source": [
    "## Matplot3D\n",
    "## https://matplotlib.org/"
   ]
  },
  {
   "cell_type": "code",
   "execution_count": 13,
   "metadata": {},
   "outputs": [],
   "source": [
    "%matplotlib qt"
   ]
  },
  {
   "cell_type": "code",
   "execution_count": 14,
   "metadata": {},
   "outputs": [
    {
     "name": "stdout",
     "output_type": "stream",
     "text": [
      "Версия matplotlib :  3.2.0\n",
      "Версия numpy :  1.18.1\n"
     ]
    }
   ],
   "source": [
    "# ИМПОРТ МОДУЛЯ\n",
    "import matplotlib as mpl\n",
    "from matplotlib import cm\n",
    "#from matplotlib.ticker import LinearLocator, FixedLocator, FormatStrFormatter\n",
    "import matplotlib.pyplot as plt\n",
    "import numpy as np\n",
    "\n",
    "print(\"Версия matplotlib : \", mpl.__version__)\n",
    "print(\"Версия numpy : \", np.__version__)"
   ]
  },
  {
   "cell_type": "markdown",
   "metadata": {},
   "source": [
    "### ПРИМЕРЫ ОТОБРАЖЕНИЯ 3D ГРАФИКОВ"
   ]
  },
  {
   "cell_type": "code",
   "execution_count": 25,
   "metadata": {},
   "outputs": [],
   "source": [
    "# ФОРМИРОВАНИЕ ДАННЫХ ДЛЯ ОТОБРАЖЕНИЯ\n",
    "X = np.arange(-5, 5, 0.25)\n",
    "Y = np.arange(-5, 5, 0.25)\n",
    "X, Y = np.meshgrid(X, Y)   #СОЗДАЕМ X,Y КООРДИНАТНУЮ СЕТКУ\n",
    "R = np.sqrt(X**2 + Y**2)   #Z КООРДИНАТЫ 2-го ГРАФИКА\n",
    "Z = np.sin(R)              #Z КООРДИНАТЫ  ГРАФИКА\n",
    "\n",
    "# СОЗДАЕМ ФИГУРУ\n",
    "fig = plt.figure(figsize=[18, 10])\n",
    "\n",
    "#ПЕРВЫЙ ГРАФИК\n",
    "ax = fig.add_subplot(1, 2, 1,  projection='3d')\n",
    "surf = ax.plot_surface(X, Y, Z, rstride=1, cstride=1, cmap=cm.viridis,\n",
    "                       linewidth=0, antialiased=False)\n",
    "#ax.set_zlim3d(-1.01, 1.01)\n",
    "#fig.colorbar(surf, shrink=0.5, aspect=5)\n",
    "\n",
    "#ВТОРОЙ ГРАФИК\n",
    "from mpl_toolkits.mplot3d.axes3d import get_test_data\n",
    "ax = fig.add_subplot(1, 2, 2, projection='3d')\n",
    "X, Y, Z = get_test_data(0.02)\n",
    "ax.plot_wireframe(X, Y, Z, rstride=10, cstride=10)\n",
    "\n",
    "plt.show()"
   ]
  },
  {
   "cell_type": "code",
   "execution_count": null,
   "metadata": {},
   "outputs": [],
   "source": []
  }
 ],
 "metadata": {
  "kernelspec": {
   "display_name": "Python 3",
   "language": "python",
   "name": "python3"
  },
  "language_info": {
   "codemirror_mode": {
    "name": "ipython",
    "version": 3
   },
   "file_extension": ".py",
   "mimetype": "text/x-python",
   "name": "python",
   "nbconvert_exporter": "python",
   "pygments_lexer": "ipython3",
   "version": "3.7.6"
  }
 },
 "nbformat": 4,
 "nbformat_minor": 4
}
