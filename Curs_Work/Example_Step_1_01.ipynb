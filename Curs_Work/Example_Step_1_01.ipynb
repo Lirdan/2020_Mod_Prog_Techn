{
 "cells": [
  {
   "cell_type": "markdown",
   "metadata": {},
   "source": [
    "# Рішення ОДУ однокрокові методи"
   ]
  },
  {
   "cell_type": "markdown",
   "metadata": {},
   "source": [
    "## Імпорт пакетів"
   ]
  },
  {
   "cell_type": "code",
   "execution_count": 3,
   "metadata": {},
   "outputs": [],
   "source": [
    "import matplotlib.pyplot as plt\n",
    "import numpy as np\n",
    "from scipy.integrate import solve_ivp\n",
    "from scipy.integrate import RK23"
   ]
  },
  {
   "cell_type": "markdown",
   "metadata": {},
   "source": [
    "## Приклад 1.1"
   ]
  },
  {
   "cell_type": "markdown",
   "metadata": {},
   "source": [
    "### y=t^2-y^2 ,  y0=1   t0=0<t<1"
   ]
  },
  {
   "cell_type": "markdown",
   "metadata": {},
   "source": [
    "### Пряме використання залежностей"
   ]
  },
  {
   "cell_type": "code",
   "execution_count": 4,
   "metadata": {},
   "outputs": [],
   "source": [
    "def raight_part (t, y): return t*t-y*y\n",
    "def k1 (h): return raight_part (t, y)\n",
    "def k2 (h): return raight_part (t+0.5*h, y+0.5*h*k1(h))    \n",
    "def k3 (h): return raight_part (t+0.5*h, y+0.5*h*k2(h))\n",
    "def k4 (h): return raight_part (t+h, y+h*k3(h))"
   ]
  },
  {
   "cell_type": "code",
   "execution_count": 5,
   "metadata": {},
   "outputs": [
    {
     "name": "stdout",
     "output_type": "stream",
     "text": [
      "[[0.00000000e+00 1.00000000e-01 2.00000000e-01 3.00000000e-01\n",
      "  4.00000000e-01 5.00000000e-01 6.00000000e-01 7.00000000e-01\n",
      "  8.00000000e-01 9.00000000e-01 1.00000000e+00]\n",
      " [0.00000000e+00 3.33331771e-04 2.66645801e-03 8.99650542e-03\n",
      "  2.13073014e-02 4.15429914e-02 7.15588830e-02 1.13044498e-01\n",
      "  1.67417928e-01 2.35697425e-01 3.18365469e-01]]\n"
     ]
    }
   ],
   "source": [
    "# НАЙПРОСТІША ПРОГРАМА \n",
    "y0 = 0 # почткові умови\n",
    "ts = 0.0 # початок відрізку інтегрування\n",
    "tf = 1.0 # кінець відрізку інтегрування\n",
    "n  = 10  # кількість кроків\n",
    "h  = (tf-ts)/n  # довжина кроку\n",
    "solution = np.zeros([2, n+1], dtype=np.float64) # масив результаті інтегрування\n",
    "solution [0,0] = ts\n",
    "solution [1,0] = y0\n",
    "y = y0\n",
    "t = ts\n",
    "i = 0\n",
    "while i < n:\n",
    "    y += h*(k1(h)+2*k2(h)+2*k3(h)+k4(h))/6\n",
    "    i +=1\n",
    "    t += h\n",
    "    solution [0,i] = t\n",
    "    solution [1,i] = y\n",
    "print (solution)"
   ]
  },
  {
   "cell_type": "code",
   "execution_count": 6,
   "metadata": {},
   "outputs": [
    {
     "data": {
      "text/plain": [
       "<function matplotlib.pyplot.show(*args, **kw)>"
      ]
     },
     "execution_count": 6,
     "metadata": {},
     "output_type": "execute_result"
    },
    {
     "data": {
      "image/png": "[encoded data removed]",
      "text/plain": [
       "<Figure size 432x288 with 1 Axes>"
      ]
     },
     "metadata": {
      "needs_background": "light"
     },
     "output_type": "display_data"
    }
   ],
   "source": [
    "plt.plot(solution [0, ], solution [1, ])\n",
    "plt.show"
   ]
  },
  {
   "cell_type": "markdown",
   "metadata": {},
   "source": [
    "### y=t^2-y^2 ,  y0=1   t0=0<t<1"
   ]
  },
  {
   "cell_type": "code",
   "execution_count": 7,
   "metadata": {},
   "outputs": [
    {
     "name": "stdout",
     "output_type": "stream",
     "text": [
      "  message: 'The solver successfully reached the end of the integration interval.'\n",
      "     nfev: 59\n",
      "     njev: 0\n",
      "      nlu: 0\n",
      "      sol: None\n",
      "   status: 0\n",
      "  success: True\n",
      "        t: array([0.00000000e+00, 1.00000000e-04, 1.10000000e-03, 1.11000000e-02,\n",
      "       3.70644366e-02, 6.31709852e-02, 8.98392577e-02, 1.17742856e-01,\n",
      "       1.47750580e-01, 1.80868993e-01, 2.18209679e-01, 2.60989665e-01,\n",
      "       3.10562466e-01, 3.68479206e-01, 4.36593759e-01, 5.17259430e-01,\n",
      "       6.13752870e-01, 7.31353367e-01, 8.80844881e-01, 1.00000000e+00])\n",
      " t_events: None\n",
      "        y: array([[0.00000000e+00, 3.33333333e-13, 4.43666667e-10, 4.55877000e-07,\n",
      "        1.69726992e-05, 8.40294191e-05, 2.41699558e-04, 5.44099673e-04,\n",
      "        1.07511883e-03, 1.97219094e-03, 3.46301101e-03, 5.92451366e-03,\n",
      "        9.98006269e-03, 1.66623628e-02, 2.76924055e-02, 4.59755485e-02,\n",
      "        7.65488798e-02, 1.28647683e-01, 2.21504776e-01, 3.18355561e-01]])\n"
     ]
    }
   ],
   "source": [
    "def ex1 (t, y): return t*t-y*y\n",
    "ts=0.0\n",
    "tf=1.0\n",
    "x0=np.array([0])\n",
    "sol = solve_ivp(ex1, [ts,tf], x0, RK23)\n",
    "print(sol)"
   ]
  },
  {
   "cell_type": "code",
   "execution_count": 8,
   "metadata": {},
   "outputs": [
    {
     "name": "stdout",
     "output_type": "stream",
     "text": [
      "[0.00000000e+00 1.00000000e-04 1.10000000e-03 1.11000000e-02\n",
      " 3.70644366e-02 6.31709852e-02 8.98392577e-02 1.17742856e-01\n",
      " 1.47750580e-01 1.80868993e-01 2.18209679e-01 2.60989665e-01\n",
      " 3.10562466e-01 3.68479206e-01 4.36593759e-01 5.17259430e-01\n",
      " 6.13752870e-01 7.31353367e-01 8.80844881e-01 1.00000000e+00]\n"
     ]
    }
   ],
   "source": [
    "print(sol.t)"
   ]
  },
  {
   "cell_type": "code",
   "execution_count": 9,
   "metadata": {},
   "outputs": [
    {
     "name": "stdout",
     "output_type": "stream",
     "text": [
      "[[0.00000000e+00 3.33333333e-13 4.43666667e-10 4.55877000e-07\n",
      "  1.69726992e-05 8.40294191e-05 2.41699558e-04 5.44099673e-04\n",
      "  1.07511883e-03 1.97219094e-03 3.46301101e-03 5.92451366e-03\n",
      "  9.98006269e-03 1.66623628e-02 2.76924055e-02 4.59755485e-02\n",
      "  7.65488798e-02 1.28647683e-01 2.21504776e-01 3.18355561e-01]]\n"
     ]
    }
   ],
   "source": [
    "print(sol.y)"
   ]
  },
  {
   "cell_type": "code",
   "execution_count": 10,
   "metadata": {},
   "outputs": [
    {
     "data": {
      "text/plain": [
       "<function matplotlib.pyplot.show(*args, **kw)>"
      ]
     },
     "execution_count": 10,
     "metadata": {},
     "output_type": "execute_result"
    },
    {
     "data": {
      "image/png": "[encoded data removed]",
      "text/plain": [
       "<Figure size 432x288 with 1 Axes>"
      ]
     },
     "metadata": {
      "needs_background": "light"
     },
     "output_type": "display_data"
    }
   ],
   "source": [
    "plt.plot(sol.t, sol.y[0])\n",
    "plt.show"
   ]
  },
  {
   "cell_type": "markdown",
   "metadata": {},
   "source": [
    "## Метод ФЕЛЬБЕРГА 4(5)"
   ]
  },
  {
   "cell_type": "code",
   "execution_count": 17,
   "metadata": {},
   "outputs": [],
   "source": [
    "def raight_part (t, y): return t*t-y*y\n",
    "def kk1 (h): return raight_part (t, y)\n",
    "def kk2 (h): return raight_part (t+0.25*h, y+0.25*h*kk1(h))    \n",
    "def kk3 (h): return raight_part (t+(3/8)*h, y+h*((3/32)*kk1(h)+(9/32)*kk2(h)))\n",
    "def kk4 (h): return raight_part (t+(12/13)*h, y+h*((1932/2197)*kk1(h)-(7200/2197)*kk2(h) + (7296/2197)*kk3(h)))\n",
    "def kk5 (h): return raight_part (t+h, y+h*((439/216)*kk1(h)-8*kk2(h) + (3680/513)*kk3(h)-(845/4104)*kk4(h)))\n",
    "def kk6 (h): return raight_part (t+0.5*h, y+h*(-(8/27)*kk1(h)+2*kk2(h) - (3544/2565)*kk3(h)+(1859/4104)*kk4(h)-(11/40)*kk5(h)))"
   ]
  },
  {
   "cell_type": "code",
   "execution_count": 18,
   "metadata": {},
   "outputs": [
    {
     "name": "stdout",
     "output_type": "stream",
     "text": [
      "[[0.00000000e+00 1.00000000e-01 2.00000000e-01 3.00000000e-01\n",
      "  4.00000000e-01 5.00000000e-01 6.00000000e-01 7.00000000e-01\n",
      "  8.00000000e-01 9.00000000e-01 1.00000000e+00]\n",
      " [0.00000000e+00 3.33331859e-04 2.66646407e-03 8.99653178e-03\n",
      "  2.13073704e-02 4.15431320e-02 7.15591276e-02 1.13044876e-01\n",
      "  1.67418457e-01 2.35698099e-01 3.18366243e-01]\n",
      " [0.00000000e+00 8.18135600e-04 2.27174064e-03 4.44712702e-03\n",
      "  7.33021012e-03 1.08891036e-02 1.50639464e-02 1.97563585e-02\n",
      "  2.48210172e-02 3.00627778e-02 3.52430134e-02]]\n"
     ]
    }
   ],
   "source": [
    "/# НАЙПРОСТІША ПРОГРАМА \n",
    "y0 = 0 # почткові умови\n",
    "ts = 0.0 # початок відрізку інтегрування\n",
    "tf = 1.0 # кінець відрізку інтегрування\n",
    "n  = 10  # кількість кроків\n",
    "h  = (tf-ts)/n  # довжина кроку\n",
    "solution = np.zeros([3, n+1], dtype=np.float64) # масив результаті інтегрування\n",
    "solution [0,0] = ts\n",
    "solution [1,0] = y0\n",
    "y = y0\n",
    "t = ts\n",
    "i = 0\n",
    "while i < n:\n",
    "    y += h*((25/216)*kk1(h)+(1408/2565)*kk3(h)+(2197/4104)*kk4(h)-(1/5)*kk5(h))\n",
    "    i += 1\n",
    "    t += h\n",
    "    eps = h*((1/360)*kk1(h)-(128/4275)*kk3(h)-(2197/75240)*kk4(h)+(1/50)*kk5(h)+(2/5)*kk6(h))\n",
    "    solution [0,i] = t\n",
    "    solution [1,i] = y\n",
    "    solution [2,i] = eps\n",
    "print (solution)"
   ]
  },
  {
   "cell_type": "markdown",
   "metadata": {},
   "source": [
    "## Рішення системи рівняннь"
   ]
  },
  {
   "cell_type": "code",
   "execution_count": null,
   "metadata": {},
   "outputs": [],
   "source": []
  }
 ],
 "metadata": {
  "kernelspec": {
   "display_name": "Python 3",
   "language": "python",
   "name": "python3"
  },
  "language_info": {
   "codemirror_mode": {
    "name": "ipython",
    "version": 3
   },
   "file_extension": ".py",
   "mimetype": "text/x-python",
   "name": "python",
   "nbconvert_exporter": "python",
   "pygments_lexer": "ipython3",
   "version": "3.7.6"
  }
 },
 "nbformat": 4,
 "nbformat_minor": 4
}
