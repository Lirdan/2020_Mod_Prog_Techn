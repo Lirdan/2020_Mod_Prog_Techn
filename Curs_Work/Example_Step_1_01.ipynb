{
 "cells": [
  {
   "cell_type": "markdown",
   "metadata": {},
   "source": [
    "# Рішення ОДУ однокрокові методи"
   ]
  },
  {
   "cell_type": "markdown",
   "metadata": {},
   "source": [
    "## Імпорт пакетів"
   ]
  },
  {
   "cell_type": "code",
   "execution_count": 1,
   "metadata": {},
   "outputs": [],
   "source": [
    "import matplotlib.pyplot as plt\n",
    "import numpy as np\n",
    "from scipy.integrate import solve_ivp\n",
    "from scipy.integrate import RK23"
   ]
  },
  {
   "cell_type": "markdown",
   "metadata": {},
   "source": [
    "## Приклад 1.1"
   ]
  },
  {
   "cell_type": "markdown",
   "metadata": {},
   "source": [
    "### y=t^2-y^2 ,  y0=1   t0=0<t<1"
   ]
  },
  {
   "cell_type": "markdown",
   "metadata": {},
   "source": [
    "### Пряме використання залежностей"
   ]
  },
  {
   "cell_type": "code",
   "execution_count": 2,
   "metadata": {},
   "outputs": [],
   "source": [
    "def raight_part (t, y): return t*t-y*y\n",
    "def k1 (h): return raight_part (t, y)\n",
    "def k2 (h): return raight_part (t+0.5*h, y+0.5*h*k1(h))    \n",
    "def k3 (h): return raight_part (t+0.5*h, y+0.5*h*k2(h))\n",
    "def k4 (h): return raight_part (t+h, y+h*k3(h))"
   ]
  },
  {
   "cell_type": "code",
   "execution_count": 3,
   "metadata": {},
   "outputs": [
    {
     "name": "stdout",
     "output_type": "stream",
     "text": [
      "[[0.         0.1        0.2        0.3        0.4        0.5\n",
      "  0.6        0.7        0.8        0.9        1.        ]\n",
      " [1.         0.90940971 0.83578553 0.77723817 0.73272762 0.70176904\n",
      "  0.68423005 0.68017716 0.68974863 0.71304253 0.75001684]]\n"
     ]
    }
   ],
   "source": [
    "# НАЙПРОСТІША ПРОГРАМА \n",
    "y0 = 1 # почткові умови\n",
    "ts = 0.0 # початок відрізку інтегрування\n",
    "tf = 1.0 # кінець відрізку інтегрування\n",
    "n  = 10  # кількість кроків\n",
    "h  = (tf-ts)/n  # довжина кроку\n",
    "solution = np.zeros([2, n+1], dtype=np.float64) # масив результаті інтегрування\n",
    "solution [0,0] = ts\n",
    "solution [1,0] = y0\n",
    "y = y0\n",
    "t = ts\n",
    "i = 0\n",
    "while i < n:\n",
    "    y += h*(k1(h)+2*k2(h)+2*k3(h)+k4(h))/6\n",
    "    i +=1\n",
    "    t += h\n",
    "    solution [0,i] = t\n",
    "    solution [1,i] = y\n",
    "print (solution)"
   ]
  },
  {
   "cell_type": "code",
   "execution_count": 4,
   "metadata": {},
   "outputs": [
    {
     "data": {
      "text/plain": [
       "<function matplotlib.pyplot.show(*args, **kw)>"
      ]
     },
     "execution_count": 4,
     "metadata": {},
     "output_type": "execute_result"
    },
    {
     "data": {
      "image/png": "[encoded data removed]",
      "text/plain": [
       "<Figure size 432x288 with 1 Axes>"
      ]
     },
     "metadata": {
      "needs_background": "light"
     },
     "output_type": "display_data"
    }
   ],
   "source": [
    "plt.plot(solution [0, ], solution [1, ])\n",
    "plt.show"
   ]
  },
  {
   "cell_type": "markdown",
   "metadata": {},
   "source": [
    "### y=t^2-y^2 ,  y0=1   t0=0<t<1"
   ]
  },
  {
   "cell_type": "code",
   "execution_count": 20,
   "metadata": {},
   "outputs": [
    {
     "name": "stdout",
     "output_type": "stream",
     "text": [
      "  message: 'The solver successfully reached the end of the integration interval.'\n",
      "     nfev: 20\n",
      "     njev: 0\n",
      "      nlu: 0\n",
      "      sol: None\n",
      "   status: 0\n",
      "  success: True\n",
      "        t: array([0. , 0.1, 0.2, 0.3, 0.4, 0.5, 0.6, 0.7, 0.8, 0.9, 1. ])\n",
      " t_events: None\n",
      "        y: array([[1.        , 0.90939611, 0.83521741, 0.77633432, 0.73235914,\n",
      "        0.70268455, 0.6864836 , 0.68273454, 0.69196735, 0.71498066,\n",
      "        0.75170368]])\n"
     ]
    }
   ],
   "source": [
    "def ex1 (t, y): return t*t-y*y\n",
    "ts=0.0\n",
    "tf=1.0\n",
    "y0=np.array([0])\n",
    "y0[0]=1\n",
    "sol = solve_ivp(ex1, [ts,tf], y0, t_eval=[0, 0.1, 0.2, 0.3, 0.4, 0.5, 0.6, 0.7, 0.8, 0.9, 1.0])\n",
    "print(sol)"
   ]
  },
  {
   "cell_type": "code",
   "execution_count": 21,
   "metadata": {},
   "outputs": [
    {
     "name": "stdout",
     "output_type": "stream",
     "text": [
      "[0.  0.1 0.2 0.3 0.4 0.5 0.6 0.7 0.8 0.9 1. ]\n"
     ]
    }
   ],
   "source": [
    "print(sol.t)"
   ]
  },
  {
   "cell_type": "code",
   "execution_count": 22,
   "metadata": {},
   "outputs": [
    {
     "name": "stdout",
     "output_type": "stream",
     "text": [
      "[[1.         0.90939611 0.83521741 0.77633432 0.73235914 0.70268455\n",
      "  0.6864836  0.68273454 0.69196735 0.71498066 0.75170368]]\n"
     ]
    }
   ],
   "source": [
    "print(sol.y)"
   ]
  },
  {
   "cell_type": "code",
   "execution_count": 23,
   "metadata": {},
   "outputs": [
    {
     "data": {
      "text/plain": [
       "<function matplotlib.pyplot.show(*args, **kw)>"
      ]
     },
     "execution_count": 23,
     "metadata": {},
     "output_type": "execute_result"
    },
    {
     "data": {
      "image/png": "[encoded data removed]",
      "text/plain": [
       "<Figure size 432x288 with 1 Axes>"
      ]
     },
     "metadata": {
      "needs_background": "light"
     },
     "output_type": "display_data"
    }
   ],
   "source": [
    "plt.plot(sol.t, sol.y[0])\n",
    "plt.show"
   ]
  },
  {
   "cell_type": "markdown",
   "metadata": {},
   "source": [
    "## Метод ФЕЛЬБЕРГА 4(5)"
   ]
  },
  {
   "cell_type": "code",
   "execution_count": 9,
   "metadata": {},
   "outputs": [],
   "source": [
    "def raight_part (t, y): return t*t-y*y\n",
    "def kk1 (h): return raight_part (t, y)\n",
    "def kk2 (h): return raight_part (t+0.25*h, y+0.25*h*kk1(h))    \n",
    "def kk3 (h): return raight_part (t+(3/8)*h, y+h*((3/32)*kk1(h)+(9/32)*kk2(h)))\n",
    "def kk4 (h): return raight_part (t+(12/13)*h, y+h*((1932/2197)*kk1(h)-(7200/2197)*kk2(h) + (7296/2197)*kk3(h)))\n",
    "def kk5 (h): return raight_part (t+h, y+h*((439/216)*kk1(h)-8*kk2(h) + (3680/513)*kk3(h)-(845/4104)*kk4(h)))\n",
    "def kk6 (h): return raight_part (t+0.5*h, y+h*(-(8/27)*kk1(h)+2*kk2(h) - (3544/2565)*kk3(h)+(1859/4104)*kk4(h)-(11/40)*kk5(h)))"
   ]
  },
  {
   "cell_type": "code",
   "execution_count": 10,
   "metadata": {},
   "outputs": [
    {
     "name": "stdout",
     "output_type": "stream",
     "text": [
      "[[ 0.          0.1         0.2         0.3         0.4         0.5\n",
      "   0.6         0.7         0.8         0.9         1.        ]\n",
      " [ 1.          0.90940928  0.83578488  0.77723742  0.73272681  0.70176819\n",
      "   0.68422915  0.68017619  0.68974756  0.7130413   0.75001538]\n",
      " [ 0.         -0.02675618 -0.02128348 -0.01618581 -0.01126213 -0.00638475\n",
      "  -0.00148158  0.0034733   0.00846515  0.01344285  0.0183243 ]]\n"
     ]
    }
   ],
   "source": [
    "/# НАЙПРОСТІША ПРОГРАМА \n",
    "y0 = 1 # почткові умови\n",
    "ts = 0.0 # початок відрізку інтегрування\n",
    "tf = 1.0 # кінець відрізку інтегрування\n",
    "n  = 10  # кількість кроків\n",
    "h  = (tf-ts)/n  # довжина кроку\n",
    "solution = np.zeros([3, n+1], dtype=np.float64) # масив результаті інтегрування\n",
    "solution [0,0] = ts\n",
    "solution [1,0] = y0\n",
    "y = y0\n",
    "t = ts\n",
    "i = 0\n",
    "while i < n:\n",
    "    y += h*((25/216)*kk1(h)+(1408/2565)*kk3(h)+(2197/4104)*kk4(h)-(1/5)*kk5(h))\n",
    "    i += 1\n",
    "    t += h\n",
    "    eps = h*((1/360)*kk1(h)-(128/4275)*kk3(h)-(2197/75240)*kk4(h)+(1/50)*kk5(h)+(2/5)*kk6(h))\n",
    "    solution [0,i] = t\n",
    "    solution [1,i] = y\n",
    "    solution [2,i] = eps\n",
    "print (solution)"
   ]
  },
  {
   "cell_type": "markdown",
   "metadata": {},
   "source": [
    "## Рішення системи рівняннь"
   ]
  },
  {
   "cell_type": "code",
   "execution_count": null,
   "metadata": {},
   "outputs": [],
   "source": []
  }
 ],
 "metadata": {
  "kernelspec": {
   "display_name": "Python 3",
   "language": "python",
   "name": "python3"
  },
  "language_info": {
   "codemirror_mode": {
    "name": "ipython",
    "version": 3
   },
   "file_extension": ".py",
   "mimetype": "text/x-python",
   "name": "python",
   "nbconvert_exporter": "python",
   "pygments_lexer": "ipython3",
   "version": "3.7.6"
  }
 },
 "nbformat": 4,
 "nbformat_minor": 4
}
