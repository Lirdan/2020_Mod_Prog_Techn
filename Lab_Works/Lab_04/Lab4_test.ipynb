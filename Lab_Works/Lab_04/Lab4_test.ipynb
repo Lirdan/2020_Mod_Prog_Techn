{
 "cells": [
  {
   "cell_type": "code",
   "execution_count": 9,
   "metadata": {},
   "outputs": [
    {
     "name": "stdout",
     "output_type": "stream",
     "text": [
      "Меню\n",
      "1. Додати запис\n",
      "2. Переглянути усі записи\n",
      "3. Підрахувати середній вік\n",
      "0. завершити роботу\n"
     ]
    },
    {
     "name": "stdin",
     "output_type": "stream",
     "text": [
      " 1\n",
      "Введіть ім'я:   Михайло\n",
      "Введіть вік:   23\n",
      "Введіть телефон:   0959595955\n"
     ]
    },
    {
     "name": "stdout",
     "output_type": "stream",
     "text": [
      "Меню\n",
      "1. Додати запис\n",
      "2. Переглянути усі записи\n",
      "3. Підрахувати середній вік\n",
      "0. завершити роботу\n"
     ]
    },
    {
     "name": "stdin",
     "output_type": "stream",
     "text": [
      " 1\n",
      "Введіть ім'я:   Петро\n",
      "Введіть вік:   25\n",
      "Введіть телефон:   0999995999\n"
     ]
    },
    {
     "name": "stdout",
     "output_type": "stream",
     "text": [
      "Меню\n",
      "1. Додати запис\n",
      "2. Переглянути усі записи\n",
      "3. Підрахувати середній вік\n",
      "0. завершити роботу\n"
     ]
    },
    {
     "name": "stdin",
     "output_type": "stream",
     "text": [
      " 1\n",
      "Введіть ім'я:   Кирило\n",
      "Введіть вік:   28\n",
      "Введіть телефон:   0509550999\n"
     ]
    },
    {
     "name": "stdout",
     "output_type": "stream",
     "text": [
      "Меню\n",
      "1. Додати запис\n",
      "2. Переглянути усі записи\n",
      "3. Підрахувати середній вік\n",
      "0. завершити роботу\n"
     ]
    },
    {
     "name": "stdin",
     "output_type": "stream",
     "text": [
      " 2\n"
     ]
    },
    {
     "name": "stdout",
     "output_type": "stream",
     "text": [
      "{'name': 'Михайло', 'age': 23, 'phone': '0959595955'}\n",
      "{'name': 'Петро', 'age': 25, 'phone': '0999995999'}\n",
      "{'name': 'Кирило', 'age': 28, 'phone': '0509550999'}\n",
      "Меню\n",
      "1. Додати запис\n",
      "2. Переглянути усі записи\n",
      "3. Підрахувати середній вік\n",
      "0. завершити роботу\n"
     ]
    },
    {
     "name": "stdin",
     "output_type": "stream",
     "text": [
      " 3\n"
     ]
    },
    {
     "name": "stdout",
     "output_type": "stream",
     "text": [
      "Середній вік = 25.333333333333332\n",
      "Меню\n",
      "1. Додати запис\n",
      "2. Переглянути усі записи\n",
      "3. Підрахувати середній вік\n",
      "0. завершити роботу\n"
     ]
    },
    {
     "name": "stdin",
     "output_type": "stream",
     "text": [
      " 0\n"
     ]
    }
   ],
   "source": [
    "person = {}.fromkeys(['name', 'age', 'phone'])\n",
    "person_list = list()\n",
    "c=-1\n",
    "def age(person_list):\n",
    "    i=0\n",
    "    s=0\n",
    "    for i in range(len(person_list)):\n",
    "        s+=person_list[i]['age']\n",
    "    return s/len(person_list)\n",
    "def add(person_list):\n",
    "    person_list+=[person.copy()]        \n",
    "    person_list[-1]['name']=input(\"Введіть ім'я:  \")\n",
    "    person_list[-1]['age']=int(input(\"Введіть вік:  \"))\n",
    "    person_list[-1]['phone']=input(\"Введіть телефон:  \")\n",
    "def print_p(person_list):\n",
    "    i=0\n",
    "    for i in range(len(person_list)):\n",
    "        print(person_list[i],sep=\"/n\") \n",
    "while c!=0:\n",
    "    print(\"Меню\")\n",
    "    print(\"1. Додати запис\")\n",
    "    print(\"2. Переглянути усі записи\")\n",
    "    print(\"3. Підрахувати середній вік\")\n",
    "    print(\"0. завершити роботу\")\n",
    "    c=int(input());\n",
    "    if c==1:\n",
    "        add(person_list)\n",
    "    if c==2:\n",
    "        i=0\n",
    "        print_p(person_list) \n",
    "    if c==3:\n",
    "        print(\"Середній вік =\",age(person_list))"
   ]
  },
  {
   "cell_type": "code",
   "execution_count": null,
   "metadata": {},
   "outputs": [],
   "source": []
  },
  {
   "cell_type": "code",
   "execution_count": null,
   "metadata": {},
   "outputs": [],
   "source": []
  }
 ],
 "metadata": {
  "kernelspec": {
   "display_name": "Python 3",
   "language": "python",
   "name": "python3"
  },
  "language_info": {
   "codemirror_mode": {
    "name": "ipython",
    "version": 3
   },
   "file_extension": ".py",
   "mimetype": "text/x-python",
   "name": "python",
   "nbconvert_exporter": "python",
   "pygments_lexer": "ipython3",
   "version": "3.7.4"
  }
 },
 "nbformat": 4,
 "nbformat_minor": 4
}
