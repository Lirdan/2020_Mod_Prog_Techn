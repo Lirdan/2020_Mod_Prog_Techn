{
 "cells": [
  {
   "cell_type": "code",
   "execution_count": 20,
   "metadata": {},
   "outputs": [
    {
     "name": "stdout",
     "output_type": "stream",
     "text": [
      "[18, 8, 5, 3, 1]\n",
      "-0.07777777777777777\n",
      "[1, 2, 2, 3, 4, 4, 5, 8, 11, 11, 18]\n"
     ]
    }
   ],
   "source": [
    "from My_package import *\n",
    "mas=[1,2,2,4,5,8,4,3,18,11,11] # вхідний масив\n",
    "x=5\n",
    "y=6\n",
    "z=3\n",
    "print(module1.func1(mas))\n",
    "print(module2.func2(x,y,z))\n",
    "print(module3.func3(mas))"
   ]
  },
  {
   "cell_type": "code",
   "execution_count": null,
   "metadata": {},
   "outputs": [],
   "source": []
  }
 ],
 "metadata": {
  "kernelspec": {
   "display_name": "Python 3",
   "language": "python",
   "name": "python3"
  },
  "language_info": {
   "codemirror_mode": {
    "name": "ipython",
    "version": 3
   },
   "file_extension": ".py",
   "mimetype": "text/x-python",
   "name": "python",
   "nbconvert_exporter": "python",
   "pygments_lexer": "ipython3",
   "version": "3.7.4"
  }
 },
 "nbformat": 4,
 "nbformat_minor": 4
}
