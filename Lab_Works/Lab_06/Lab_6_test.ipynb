{
 "cells": [
  {
   "cell_type": "code",
   "execution_count": 1,
   "metadata": {},
   "outputs": [
    {
     "name": "stdin",
     "output_type": "stream",
     "text": [
      "Введіть число 17\n"
     ]
    },
    {
     "name": "stdout",
     "output_type": "stream",
     "text": [
      "YeS\n"
     ]
    }
   ],
   "source": [
    "#Перевірка простоти числа\n",
    "def rec(n,div):\n",
    "    if div==1:\n",
    "        print(\"YeS\")\n",
    "    elif n%div==0:\n",
    "        print(\"No\")\n",
    "    else:\n",
    "        rec(n,div-1)\n",
    "n=int(input(\"Введіть число\"))\n",
    "rec(n,n-1)"
   ]
  },
  {
   "cell_type": "code",
   "execution_count": 1,
   "metadata": {},
   "outputs": [],
   "source": [
    "#Ханойські вежі\n",
    "def move(n, start, finish):\n",
    "    if n > 0:\n",
    "        temp = 6-start-finish # Допоміжний стрижень\n",
    "        move(n-1, start, temp)\n",
    "        print(\"Перенести диск\", n, \"зі стрижня\", start, \"на стрижень\", finish)\n",
    "        move(n-1, temp, finish)\n",
    "move(10,1,3)"
   ]
  },
  {
   "cell_type": "code",
   "execution_count": null,
   "metadata": {},
   "outputs": [],
   "source": [
    "#приклад рекурсії \n",
    "def ShortStory():\n",
    "    print(\"У попа была собака, он ее любил.\")\n",
    "    print(\"Она съела кусок мяса, он ее убил,\")\n",
    "    print(\"В землю закопал и надпись написал:\")\n",
    "    ShortStory()\n",
    "ShortStory()"
   ]
  }
 ],
 "metadata": {
  "kernelspec": {
   "display_name": "Python 3",
   "language": "python",
   "name": "python3"
  },
  "language_info": {
   "codemirror_mode": {
    "name": "ipython",
    "version": 3
   },
   "file_extension": ".py",
   "mimetype": "text/x-python",
   "name": "python",
   "nbconvert_exporter": "python",
   "pygments_lexer": "ipython3",
   "version": "3.7.4"
  }
 },
 "nbformat": 4,
 "nbformat_minor": 4
}
