{
 "cells": [
  {
   "cell_type": "code",
   "execution_count": 34,
   "metadata": {},
   "outputs": [
    {
     "name": "stdout",
     "output_type": "stream",
     "text": [
      "[8, 5, 4, 4, 3, 2, 2, 1]\n",
      "[8, 5, 3, 1]\n"
     ]
    }
   ],
   "source": [
    "x=[1,2,2,4,5,8,4,3,18,11,11] # вхідний массив\n",
    "k=0 # лічильник\n",
    "imax=0 # номер максимального елементу\n",
    "max=x[0] # значення максимального єлементу\n",
    "# сортування массиву\n",
    "while k<len(x)-1: \n",
    "    j=k\n",
    "    imax=k\n",
    "    max=x[k]\n",
    "    while j<len(x):\n",
    "        if max<x[j]:\n",
    "            max=x[j]\n",
    "            imax=j\n",
    "        j+=1\n",
    "    x[imax]=x[k]\n",
    "    x[k]=max   \n",
    "    k+=1\n",
    "print(x) # демонстрація вісортованного массиву\n",
    "y=[] # створення нового массиву\n",
    "# перенесення неповторюванних елементів до нового массиву\n",
    "for i in range(len(x)):\n",
    "    buf=x[i]\n",
    "    num=0\n",
    "    for j in range(len(x)):\n",
    "        if x[i]==x[j]:\n",
    "            num+=1\n",
    "    if num==1:\n",
    "        y=y+[x[i]]\n",
    "print(y)  # демонстрація результуючого массиву"
   ]
  },
  {
   "cell_type": "code",
   "execution_count": null,
   "metadata": {},
   "outputs": [],
   "source": []
  },
  {
   "cell_type": "code",
   "execution_count": null,
   "metadata": {},
   "outputs": [],
   "source": []
  }
 ],
 "metadata": {
  "kernelspec": {
   "display_name": "Python 3",
   "language": "python",
   "name": "python3"
  },
  "language_info": {
   "codemirror_mode": {
    "name": "ipython",
    "version": 3
   },
   "file_extension": ".py",
   "mimetype": "text/x-python",
   "name": "python",
   "nbconvert_exporter": "python",
   "pygments_lexer": "ipython3",
   "version": "3.7.4"
  }
 },
 "nbformat": 4,
 "nbformat_minor": 4
}
