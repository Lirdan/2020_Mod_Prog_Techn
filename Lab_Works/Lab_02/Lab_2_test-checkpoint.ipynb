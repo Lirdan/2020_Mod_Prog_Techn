{
 "cells": [
  {
   "cell_type": "code",
   "execution_count": 3,
   "metadata": {},
   "outputs": [
    {
     "name": "stdout",
     "output_type": "stream",
     "text": [
      "[1, 2, 2, 4, 5, 8, 4, 3, 18, 11, 11]\n",
      "[18, 8, 5, 3, 1]\n"
     ]
    }
   ],
   "source": [
    "mas=[1,2,2,4,5,8,4,3,18,11,11] # вхідний масив\n",
    "def func1(x):\n",
    "    k=0 # лічильник\n",
    "    imax=0 # номер максимального елементу\n",
    "    max=x[0] # значення максимального елементу\n",
    "    # сортування масиву\n",
    "    while k<len(x)-1: \n",
    "        j=k\n",
    "        imax=k\n",
    "        max=x[k]\n",
    "        while j<len(x):\n",
    "            if max<x[j]:\n",
    "                max=x[j]\n",
    "                imax=j\n",
    "            j+=1\n",
    "        x[imax]=x[k]\n",
    "        x[k]=max   \n",
    "        k+=1\n",
    "    y=[] # створення нового масиву\n",
    "    # перенесення неповторюваних елементів до нового масиву\n",
    "    for i in range(len(x)):\n",
    "        buf=x[i]\n",
    "        num=0\n",
    "        for j in range(len(x)):\n",
    "            if x[i]==x[j]:\n",
    "                num+=1\n",
    "        if num==1:\n",
    "            y=y+[x[i]]\n",
    "    return y\n",
    "print(mas)     # демонстрація вхідного масиву \n",
    "print(func1(mas))  # демонстрація результуючого масиву"
   ]
  },
  {
   "cell_type": "code",
   "execution_count": 5,
   "metadata": {},
   "outputs": [
    {
     "name": "stdout",
     "output_type": "stream",
     "text": [
      "[18, 11, 11, 8, 5, 4, 4, 3, 2, 2, 1]\n",
      "[1, 2, 2, 3, 4, 4, 5, 8, 11, 11, 18]\n"
     ]
    }
   ],
   "source": [
    "mas=[1,2,2,4,5,8,4,3,18,11,11] # вхідний масив\n",
    "def func3(x):\n",
    "    k=0 # лічильник\n",
    "    imin=0 # номер мінімального елементу\n",
    "    min=x[0] # значення мінімального елементу\n",
    "    while k<len(x)-1: \n",
    "        j=k\n",
    "        imin=k\n",
    "        min=x[k]\n",
    "        while j<len(x):\n",
    "            if min>x[j]:\n",
    "                min=x[j]\n",
    "                imin=j\n",
    "            j+=1\n",
    "        x[imin]=x[k]\n",
    "        x[k]=min   \n",
    "        k+=1\n",
    "    return x\n",
    "print(mas)     # демонстрація вхідного масиву \n",
    "print(func3(mas))  # демонстрація результуючого масиву"
   ]
  },
  {
   "cell_type": "code",
   "execution_count": 6,
   "metadata": {},
   "outputs": [
    {
     "name": "stdout",
     "output_type": "stream",
     "text": [
      "-0.48\n"
     ]
    }
   ],
   "source": [
    "import math\n",
    "func2 = lambda x,y,z: 2*(x-4*z)*(pow(y,-2)/5)\n",
    "print(func2(2,5,8))"
   ]
  },
  {
   "cell_type": "code",
   "execution_count": null,
   "metadata": {},
   "outputs": [],
   "source": []
  }
 ],
 "metadata": {
  "kernelspec": {
   "display_name": "Python 3",
   "language": "python",
   "name": "python3"
  },
  "language_info": {
   "codemirror_mode": {
    "name": "ipython",
    "version": 3
   },
   "file_extension": ".py",
   "mimetype": "text/x-python",
   "name": "python",
   "nbconvert_exporter": "python",
   "pygments_lexer": "ipython3",
   "version": "3.7.4"
  }
 },
 "nbformat": 4,
 "nbformat_minor": 4
}
