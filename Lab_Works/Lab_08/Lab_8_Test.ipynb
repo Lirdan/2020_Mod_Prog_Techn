{
 "cells": [
  {
   "cell_type": "code",
   "execution_count": 6,
   "metadata": {},
   "outputs": [
    {
     "name": "stdout",
     "output_type": "stream",
     "text": [
      "side a = 3   side b = 5\n",
      "Периметр =  16\n",
      "Площа =  15\n",
      "side a = 6   side b = 10\n",
      "Периметр =  32\n",
      "Площа =  60\n",
      "side a = 8   side b = 13\n",
      "Периметр =  42\n",
      "Площа =  104\n"
     ]
    }
   ],
   "source": [
    "class Rectangle: # клас чотирикутник\n",
    "    side_a = 0 # сторона а\n",
    "    side_b = 0 # сторона б\n",
    "    def __init__(self,a,b):   # Constructor\n",
    "        self.side_a = a\n",
    "        self.side_b = b   \n",
    "    def perimeter(self):   # метод обчислення периметру\n",
    "        return (self.side_a+self.side_b)*2  \n",
    "    def square(self): # метод обчислення площі\n",
    "        return self.side_a*self.side_b\n",
    "    def scaling(self,x): # метод масштабування\n",
    "        self.side_a*=x\n",
    "        self.side_b*=x\n",
    "    def display_self(self): # метод друку параметрів\n",
    "        print(\"side a =\", self.side_a, \"  side b =\", self.side_b)\n",
    "        \n",
    "# демонстрація роботи з класом       \n",
    "a = Rectangle(3,5)\n",
    "a.display_self()\n",
    "print(\"Периметр = \",a.perimeter())\n",
    "print(\"Площа = \", a.square())\n",
    "\n",
    "a.scaling(2)\n",
    "a.display_self()\n",
    "print(\"Периметр = \",a.perimeter())\n",
    "print(\"Площа = \", a.square())\n",
    "\n",
    "a.side_a+=2\n",
    "a.side_b+=3\n",
    "a.display_self()\n",
    "print(\"Периметр = \",a.perimeter())\n",
    "print(\"Площа = \", a.square())"
   ]
  },
  {
   "cell_type": "code",
   "execution_count": null,
   "metadata": {},
   "outputs": [],
   "source": []
  }
 ],
 "metadata": {
  "kernelspec": {
   "display_name": "Python 3",
   "language": "python",
   "name": "python3"
  },
  "language_info": {
   "codemirror_mode": {
    "name": "ipython",
    "version": 3
   },
   "file_extension": ".py",
   "mimetype": "text/x-python",
   "name": "python",
   "nbconvert_exporter": "python",
   "pygments_lexer": "ipython3",
   "version": "3.7.3"
  }
 },
 "nbformat": 4,
 "nbformat_minor": 2
}
