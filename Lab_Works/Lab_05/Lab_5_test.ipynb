{
 "cells": [
  {
   "cell_type": "code",
   "execution_count": 1,
   "metadata": {},
   "outputs": [
    {
     "name": "stdout",
     "output_type": "stream",
     "text": [
      "Меню\n",
      "1. Додати запис\n",
      "2. Переглянути усі записи\n",
      "3. Підрахувати середній вік\n",
      "4. Видалити запис\n",
      "0. завершити роботу\n"
     ]
    },
    {
     "name": "stdin",
     "output_type": "stream",
     "text": [
      " 0\n"
     ]
    }
   ],
   "source": [
    "person = {}.fromkeys(['name', 'age', 'phone'])\n",
    "person_list = list()\n",
    "c=-1\n",
    "def print_f(person_list):\n",
    "    f = open('Person_List', 'w+')\n",
    "    for i in range(len(person_list)):\n",
    "        f.write(\"%10s\" %person_list[i]['name'])\n",
    "        f.write(\"%2d\" %person_list[i]['age'])\n",
    "        f.write(\"%15s\" %person_list[i]['phone'])\n",
    "        f.write(\"\\n\")\n",
    "    f.close();\n",
    "def read_f(person_list):\n",
    "    f = open('Person_List', 'r+') \n",
    "    i=0\n",
    "    while True:        \n",
    "        s=f.read(10)\n",
    "        if not s: \n",
    "            break\n",
    "        person_list+=[person.copy()] \n",
    "        person_list[i]['name'] = s        \n",
    "        s=f.read(2)\n",
    "        person_list[i]['age'] = int(s)\n",
    "        s=f.read(15)\n",
    "        person_list[i]['phone'] = s    \n",
    "        i+=1\n",
    "        s=f.read(1)        \n",
    "    f.close()\n",
    "def age(person_list):\n",
    "    i=0\n",
    "    s=0\n",
    "    for i in range(len(person_list)):\n",
    "        s+=person_list[i]['age']\n",
    "    return s/len(person_list)\n",
    "def add(person_list):\n",
    "    person_list+=[person.copy()]        \n",
    "    person_list[-1]['name']=input(\"Введіть ім'я:  \")\n",
    "    person_list[-1]['age']=int(input(\"Введіть вік:  \"))\n",
    "    person_list[-1]['phone']=input(\"Введіть телефон:  \")\n",
    "    print_f(person_list)\n",
    "def delete(person_list):    \n",
    "    print_p(person_list)\n",
    "    buf=int(input(\"Введіть номер видаляємого запису:  \"))\n",
    "    del person_list[buf-1]\n",
    "    print_f(person_list)\n",
    "def print_p(person_list):\n",
    "    for i in range(len(person_list)):\n",
    "        print(i+1,\"%10s\" %person_list[i]['name'],\"%2d\" %person_list[i]['age'],\"%15s\" %person_list[i]['phone']) \n",
    "        \n",
    "read_f(person_list)\n",
    "while c!=0:    \n",
    "    print(\"Меню\")\n",
    "    print(\"1. Додати запис\")\n",
    "    print(\"2. Переглянути усі записи\")\n",
    "    print(\"3. Підрахувати середній вік\")\n",
    "    print(\"4. Видалити запис\")\n",
    "    print(\"0. завершити роботу\")\n",
    "    c=int(input());\n",
    "    if c==1:\n",
    "        add(person_list)\n",
    "    if c==2:\n",
    "        i=0\n",
    "        print_p(person_list) \n",
    "    if c==3:\n",
    "        print(\"Середній вік =\",age(person_list))\n",
    "    if c==4:\n",
    "        delete(person_list)"
   ]
  },
  {
   "cell_type": "code",
   "execution_count": null,
   "metadata": {},
   "outputs": [],
   "source": []
  }
 ],
 "metadata": {
  "kernelspec": {
   "display_name": "Python 3",
   "language": "python",
   "name": "python3"
  },
  "language_info": {
   "codemirror_mode": {
    "name": "ipython",
    "version": 3
   },
   "file_extension": ".py",
   "mimetype": "text/x-python",
   "name": "python",
   "nbconvert_exporter": "python",
   "pygments_lexer": "ipython3",
   "version": "3.7.4"
  }
 },
 "nbformat": 4,
 "nbformat_minor": 4
}
