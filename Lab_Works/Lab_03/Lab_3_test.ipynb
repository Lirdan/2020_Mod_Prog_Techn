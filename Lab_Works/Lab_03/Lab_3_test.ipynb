{
 "cells": [
  {
   "cell_type": "code",
   "execution_count": 35,
   "metadata": {},
   "outputs": [
    {
     "name": "stdout",
     "output_type": "stream",
     "text": [
      "Si23 Sic10 Hick18 Nic10 Si23 Slic10 Brick18 Wit7 Pick18 An3 Stic18\n"
     ]
    }
   ],
   "source": [
    "a =\"six sick hicks nick six slick bricks with picks and sticks\"#вхідний рядок\n",
    "alf1=\"abcdefghijklmnopqrstuvwxyz\"#алфавіт нижнього регістру\n",
    "alf2=\"ABCDEFGHIJKLMNOPQRSTUVWXYZ\"#аліавіт верхнього регістру\n",
    "sp=\" \"   #пробіл\n",
    "i=0\n",
    "a=alf2[alf1.find(a[0])]+a[1:] #зміна регістру першого символа\n",
    "while i<len(a):     #доки рядок не закінчився\n",
    "    if(a[i]==sp):    #пошук пробілу у рядку\n",
    "        a=a[:i+1]+alf2[alf1.find(a[i+1])]+a[i+2:]   #зміна регістру символа після пробілу\n",
    "        k=alf1.find(a[i-1])\n",
    "        a=a[:i-1]+\"%d\"%k+a[i:]  #заміна символа до пробілу на його номер у алфавіті\n",
    "        if(k>9): #перевірка чи змінився розмір рядку\n",
    "            i+=1\n",
    "    i+=1\n",
    "a=a[:-2]+\"%d\"%alf1.find(a[-1])  #заміна останнього символа до на його номер у алфавіті\n",
    "i=0;\n",
    "print(a)"
   ]
  },
  {
   "cell_type": "code",
   "execution_count": 36,
   "metadata": {},
   "outputs": [
    {
     "name": "stdout",
     "output_type": "stream",
     "text": [
      "Si23 Sic10 Hick18 Nic10 Si23 Slic10 Brick18 Wit7 Pick18 An3 Stic18"
     ]
    }
   ],
   "source": [
    " #форматування цифр\n",
    "for i in range(len(a)):\n",
    "    if(alf1.find(a[i])!=-1 and alf2.find(a[i])!=-1 and sp.find(a[i])!=-1):\n",
    "        print(\"%d\" %a[i], end = '')\n",
    "    else:\n",
    "        print(a[i], end = '')"
   ]
  },
  {
   "cell_type": "code",
   "execution_count": 37,
   "metadata": {},
   "outputs": [
    {
     "name": "stdout",
     "output_type": "stream",
     "text": [
      "[4.8, 4.0, 5.0, 6.0, 6.6]\n"
     ]
    }
   ],
   "source": [
    "y= [[3,4,2,5,4],\\\n",
    "    [4,5,8,5,7],\\\n",
    "    [5,4,5,6,7],\\\n",
    "    [3,3,5,8,8],\\\n",
    "    [9,4,5,6,7]]  #вхідна матриця\n",
    "z=list(); #результуючий вектор\n",
    "sum=0\n",
    "for j in range(5):\n",
    "    sum=0;\n",
    "    for i in range(5):\n",
    "        sum+=y[i][j] # підрахунок суми елементів\n",
    "    z+=[sum/5]; # формування результуючого вектору\n",
    "print(z);"
   ]
  },
  {
   "cell_type": "code",
   "execution_count": null,
   "metadata": {},
   "outputs": [],
   "source": []
  }
 ],
 "metadata": {
  "kernelspec": {
   "display_name": "Python 3",
   "language": "python",
   "name": "python3"
  },
  "language_info": {
   "codemirror_mode": {
    "name": "ipython",
    "version": 3
   },
   "file_extension": ".py",
   "mimetype": "text/x-python",
   "name": "python",
   "nbconvert_exporter": "python",
   "pygments_lexer": "ipython3",
   "version": "3.7.4"
  }
 },
 "nbformat": 4,
 "nbformat_minor": 4
}
