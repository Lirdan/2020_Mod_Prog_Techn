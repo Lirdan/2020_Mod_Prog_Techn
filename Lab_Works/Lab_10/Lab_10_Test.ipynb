{
 "cells": [
  {
   "cell_type": "code",
   "execution_count": 3,
   "metadata": {},
   "outputs": [
    {
     "name": "stdout",
     "output_type": "stream",
     "text": [
      "[[2 1 1]\n",
      " [0 0 2]\n",
      " [0 2 2]\n",
      " [4 2 4]\n",
      " [2 4 2]\n",
      " [3 4 0]\n",
      " [3 0 0]\n",
      " [3 2 2]\n",
      " [4 1 2]\n",
      " [1 1 1]\n",
      " [4 4 1]\n",
      " [3 0 3]\n",
      " [1 1 0]\n",
      " [2 1 2]\n",
      " [0 1 0]] \n",
      "\n",
      "[[2 2]\n",
      " [4 0]] \n",
      "\n",
      "[ 0  1  2  3  4  5  6  7  8 10 13 14]\n"
     ]
    }
   ],
   "source": [
    "import numpy as np\n",
    "A = np.random.randint(0,5,(15,3))\n",
    "print(A,\"\\n\")\n",
    "B = np.random.randint(0,5,(2,2))\n",
    "print(B,\"\\n\")\n",
    "C = (A[..., np.newaxis, np.newaxis] == B)\n",
    "rows = (C.sum(axis=(1,2,3)) >= B.shape[1]).nonzero()[0]\n",
    "print(rows)"
   ]
  },
  {
   "cell_type": "code",
   "execution_count": null,
   "metadata": {},
   "outputs": [],
   "source": []
  }
 ],
 "metadata": {
  "kernelspec": {
   "display_name": "Python 3",
   "language": "python",
   "name": "python3"
  },
  "language_info": {
   "codemirror_mode": {
    "name": "ipython",
    "version": 3
   },
   "file_extension": ".py",
   "mimetype": "text/x-python",
   "name": "python",
   "nbconvert_exporter": "python",
   "pygments_lexer": "ipython3",
   "version": "3.7.4"
  }
 },
 "nbformat": 4,
 "nbformat_minor": 4
}
